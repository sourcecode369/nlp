{
  "nbformat": 4,
  "nbformat_minor": 0,
  "metadata": {
    "colab": {
      "name": "Seq2Seq - Change Word.ipynb",
      "provenance": [],
      "authorship_tag": "ABX9TyNJpFlF88l77ouG3BF+u2T3",
      "include_colab_link": true
    },
    "kernelspec": {
      "name": "python3",
      "display_name": "Python 3"
    },
    "accelerator": "GPU"
  },
  "cells": [
    {
      "cell_type": "markdown",
      "metadata": {
        "id": "view-in-github",
        "colab_type": "text"
      },
      "source": [
        "<a href=\"https://colab.research.google.com/github/sourcecode369/transformers-tutorials/blob/master/Seq2Seq/Seq2Seq_Change_Word.ipynb\" target=\"_parent\"><img src=\"https://colab.research.google.com/assets/colab-badge.svg\" alt=\"Open In Colab\"/></a>"
      ]
    },
    {
      "cell_type": "code",
      "metadata": {
        "id": "TG4BMs8W1EiK"
      },
      "source": [
        "import numpy as np\n",
        "import torch\n",
        "import torch.nn as nn\n",
        "import torch.optim as optim"
      ],
      "execution_count": 1,
      "outputs": []
    },
    {
      "cell_type": "code",
      "metadata": {
        "id": "iSLHHIVR1Z6d"
      },
      "source": [
        "n_step = 5\n",
        "n_hidden = 128\n",
        "\n",
        "char_arr = [c for c in 'SEPabcdefghijklmnopqrstuvwxyz']\n",
        "num_dic = {n:i for i, n in enumerate(char_arr)}\n",
        "seq_data = [['man', 'women'], ['black', 'white'], ['king', 'queen'], ['girl', 'boy'], ['up', 'down'], ['high', 'low']]\n",
        "n_class = len(num_dic)\n",
        "batch_size = len(seq_data)"
      ],
      "execution_count": 2,
      "outputs": []
    },
    {
      "cell_type": "code",
      "metadata": {
        "id": "MjSXXyd12LD3"
      },
      "source": [
        "class Seq2Seq(nn.Module):\n",
        "    \n",
        "    def __init__(self):\n",
        "        super(Seq2Seq, self).__init__()\n",
        "        self.enc_cell = nn.RNN(input_size=n_class, hidden_size=n_hidden, dropout=0.5)\n",
        "        self.dec_cell = nn.RNN(input_size=n_class, hidden_size=n_hidden, dropout=0.5)\n",
        "        self.fc = nn.Linear(n_hidden, n_class)\n",
        "    \n",
        "    def forward(self, enc_input, enc_hidden, dec_input):\n",
        "        enc_input = enc_input.transpose(0, 1) # enc_input: [max_len(=n_step, time step), batch_size, n_class]\n",
        "        dec_input = dec_input.transpose(0, 1) # dec_input: [max_len(=n_step, time step), batch_size, n_class]\n",
        "\n",
        "        # enc_states : [num_layers(=1) * num_directions(=1), batch_size, n_hidden]\n",
        "        _, enc_states = self.enc_cell(enc_input, enc_hidden)\n",
        "        # outputs : [max_len+1(=6), batch_size, num_directions(=1) * n_hidden(=128)]\n",
        "        outputs, _ = self.dec_cell(dec_input, enc_states)\n",
        "        model = self.fc(outputs) # model : [max_len+1(=6), batch_size, n_class]\n",
        "        return model"
      ],
      "execution_count": 5,
      "outputs": []
    },
    {
      "cell_type": "code",
      "metadata": {
        "id": "kdMgm1S83k0c",
        "outputId": "d5335c0a-4de3-4952-b54d-3b6582745f1d",
        "colab": {
          "base_uri": "https://localhost:8080/",
          "height": 74
        }
      },
      "source": [
        "model = Seq2Seq()\n",
        "criterion = nn.CrossEntropyLoss()\n",
        "optimizer = torch.optim.Adam(model.parameters(), lr=0.001)"
      ],
      "execution_count": 6,
      "outputs": [
        {
          "output_type": "stream",
          "text": [
            "/usr/local/lib/python3.6/dist-packages/torch/nn/modules/rnn.py:60: UserWarning: dropout option adds dropout after all but last recurrent layer, so non-zero dropout expects num_layers greater than 1, but got dropout=0.5 and num_layers=1\n",
            "  \"num_layers={}\".format(dropout, num_layers))\n"
          ],
          "name": "stderr"
        }
      ]
    },
    {
      "cell_type": "code",
      "metadata": {
        "id": "v1bZmYq73rHg"
      },
      "source": [
        "def make_batch():\n",
        "    input_batch, output_batch, target_batch = [], [], []\n",
        "    for seq in seq_data:\n",
        "        for i in range(2):\n",
        "            seq[i] = seq[i] + 'P' * (n_step - len(seq[i]))\n",
        "        input = [num_dic[n] for n in seq[0]]\n",
        "        output = [num_dic[n] for n in ('S' + seq[1])]\n",
        "        target = [num_dic[n] for n in (seq[1] + 'E')]\n",
        "        input_batch.append(np.eye(n_class)[input])\n",
        "        output_batch.append(np.eye(n_class)[output])\n",
        "        target_batch.append(target) # not one-hot\n",
        "\n",
        "    # make tensor\n",
        "    return torch.FloatTensor(input_batch), torch.FloatTensor(output_batch), torch.LongTensor(target_batch)"
      ],
      "execution_count": 7,
      "outputs": []
    },
    {
      "cell_type": "code",
      "metadata": {
        "id": "Pc9wqiKi4otm"
      },
      "source": [
        "input_batch, output_batch, target_batch = make_batch()"
      ],
      "execution_count": 8,
      "outputs": []
    },
    {
      "cell_type": "code",
      "metadata": {
        "id": "c7FPrVnQ4yh8",
        "outputId": "254b7e01-c811-43bc-ef19-c913ddaaaeb3",
        "colab": {
          "base_uri": "https://localhost:8080/",
          "height": 199
        }
      },
      "source": [
        "for epoch in range(10000):\n",
        "    # make hidden shape [num_layers * num_directions, batch_size, n_hidden]\n",
        "    hidden = torch.zeros(1, batch_size, n_hidden)\n",
        "\n",
        "    optimizer.zero_grad()\n",
        "    # input_batch : [batch_size, max_len(=n_step, time step), n_class]\n",
        "    # output_batch : [batch_size, max_len+1(=n_step, time step) (becase of 'S' or 'E'), n_class]\n",
        "    # target_batch : [batch_size, max_len+1(=n_step, time step)], not one-hot\n",
        "    output = model(input_batch, hidden, output_batch)\n",
        "    # output : [max_len+1, batch_size, n_class]\n",
        "    output = output.transpose(0, 1) # [batch_size, max_len+1(=6), n_class]\n",
        "    loss = 0\n",
        "    for i in range(0, len(target_batch)):\n",
        "        # output[i] : [max_len+1, n_class, target_batch[i] : max_len+1]\n",
        "        loss += criterion(output[i], target_batch[i])\n",
        "    if (epoch + 1) % 1000 == 0:\n",
        "        print('Epoch:', '%04d' % (epoch + 1), 'cost =', '{:.6f}'.format(loss))\n",
        "    loss.backward()\n",
        "    optimizer.step()"
      ],
      "execution_count": 39,
      "outputs": [
        {
          "output_type": "stream",
          "text": [
            "Epoch: 1000 cost = 0.000060\n",
            "Epoch: 2000 cost = 0.000035\n",
            "Epoch: 3000 cost = 0.000020\n",
            "Epoch: 4000 cost = 0.000012\n",
            "Epoch: 5000 cost = 0.000007\n",
            "Epoch: 6000 cost = 0.000004\n",
            "Epoch: 7000 cost = 0.000002\n",
            "Epoch: 8000 cost = 0.000001\n",
            "Epoch: 9000 cost = 0.000001\n",
            "Epoch: 10000 cost = 0.000000\n"
          ],
          "name": "stdout"
        }
      ]
    },
    {
      "cell_type": "code",
      "metadata": {
        "id": "O0jbFCpd4zly"
      },
      "source": [
        "def translate():\n",
        "    input_batch, output_batch, _ = make_batch()\n",
        "    # make hidden shape [num_layers * num_directions, batch_size, n_hidden]\n",
        "    hidden = torch.zeros(1, batch_size, n_hidden)\n",
        "    output = model(input_batch, hidden, output_batch)\n",
        "    # output : [max_len+1(=6), batch_size(=1), n_class]\n",
        "    output = output.transpose(0, 1)\n",
        "    translations = []\n",
        "    predict = output.data.max(2, keepdim=True)[1] # select n_class dimension\n",
        "    for pred in predict:\n",
        "        decoded = [char_arr[i] for i in pred.squeeze()]\n",
        "        end = decoded.index('E')\n",
        "        translated = ''.join(decoded[:end])\n",
        "        translated = translated.replace('P', '')\n",
        "        translations.append(translated)\n",
        "    return translations"
      ],
      "execution_count": 52,
      "outputs": []
    },
    {
      "cell_type": "code",
      "metadata": {
        "id": "2FBh1pJ-6jLF",
        "outputId": "eb9bd7b3-58c0-449f-8b7d-993eb2c624ef",
        "colab": {
          "base_uri": "https://localhost:8080/",
          "height": 35
        }
      },
      "source": [
        "translate()"
      ],
      "execution_count": 53,
      "outputs": [
        {
          "output_type": "execute_result",
          "data": {
            "text/plain": [
              "['women', 'white', 'queen', 'boy', 'down', 'low']"
            ]
          },
          "metadata": {
            "tags": []
          },
          "execution_count": 53
        }
      ]
    },
    {
      "cell_type": "code",
      "metadata": {
        "id": "89xO88Pw9Nip"
      },
      "source": [
        ""
      ],
      "execution_count": null,
      "outputs": []
    }
  ]
}