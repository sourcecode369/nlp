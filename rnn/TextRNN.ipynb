{
  "nbformat": 4,
  "nbformat_minor": 0,
  "metadata": {
    "colab": {
      "name": "TextRNN.ipynb",
      "provenance": [],
      "authorship_tag": "ABX9TyM8K3AmQhB3wiUWq9CLKgwb",
      "include_colab_link": true
    },
    "kernelspec": {
      "name": "python3",
      "display_name": "Python 3"
    },
    "accelerator": "GPU"
  },
  "cells": [
    {
      "cell_type": "markdown",
      "metadata": {
        "id": "view-in-github",
        "colab_type": "text"
      },
      "source": [
        "<a href=\"https://colab.research.google.com/github/sourcecode369/transformers-tutorials/blob/master/rnn/TextRNN.ipynb\" target=\"_parent\"><img src=\"https://colab.research.google.com/assets/colab-badge.svg\" alt=\"Open In Colab\"/></a>"
      ]
    },
    {
      "cell_type": "code",
      "metadata": {
        "id": "vvMQytMN1rRl"
      },
      "source": [
        "import numpy as np\n",
        "import torch\n",
        "import torch.nn as nn\n",
        "import torch.optim as optim"
      ],
      "execution_count": 1,
      "outputs": []
    },
    {
      "cell_type": "code",
      "metadata": {
        "id": "KM2SmY1015uq"
      },
      "source": [
        "sentences = [\"i like nlp\", \"i love gini\", \"i eat lot\", \"i heart chicken\"]\n",
        "word_list = \" \".join(sentences).split()\n",
        "word_list = list(set(word_list))\n",
        "word_dict = {w: i for i, w in enumerate(word_list)}\n",
        "number_dict = {i: w for i, w in enumerate(word_list)}\n",
        "n_class = len(word_dict)\n",
        "batch_size = len(sentences)"
      ],
      "execution_count": 37,
      "outputs": []
    },
    {
      "cell_type": "code",
      "metadata": {
        "id": "TZR3FwG53foR"
      },
      "source": [
        "n_step = 2\n",
        "n_hidden = 5"
      ],
      "execution_count": 38,
      "outputs": []
    },
    {
      "cell_type": "code",
      "metadata": {
        "id": "tb877I4z2sIs"
      },
      "source": [
        "class TextRNN(nn.Module):\n",
        "    def __init__(self):\n",
        "        super(TextRNN, self).__init__()\n",
        "        self.rnn = nn.RNN(input_size=n_class, hidden_size=n_hidden)\n",
        "        self.W = nn.Linear(n_hidden, n_class)\n",
        "        self.b = nn.Parameter(torch.ones([n_class]))\n",
        "    \n",
        "    def forward(self, hidden, X):\n",
        "        X = X.transpose(0, 1) # X : [n_step, batch_size, n_class]\n",
        "        outputs, hidden = self.rnn(X, hidden)\n",
        "        # outputs : [n_step, batch_size, num_directions(=1) * n_hidden]\n",
        "        # hidden : [num_layers(=1) * num_directions(=1), batch_size, n_hidden]\n",
        "        outputs = outputs[-1]\n",
        "        model = self.W(outputs) + self.b\n",
        "        return model"
      ],
      "execution_count": 39,
      "outputs": []
    },
    {
      "cell_type": "code",
      "metadata": {
        "id": "E8SrVXtQ21Hs"
      },
      "source": [
        "model = TextRNN()\n",
        "criterion = nn.CrossEntropyLoss()\n",
        "optimizer = optim.Adam(model.parameters(), lr=0.001)"
      ],
      "execution_count": 40,
      "outputs": []
    },
    {
      "cell_type": "code",
      "metadata": {
        "id": "clK-m4WV48Ow"
      },
      "source": [
        "def make_batch():\n",
        "    input_batch = []\n",
        "    target_batch = []\n",
        "    for sen in sentences:\n",
        "        word = sen.split()  # space tokenizer\n",
        "        input = [word_dict[n] for n in word[:-1]]  # create (1~n-1) as input\n",
        "        target = word_dict[word[-1]]  # create (n) as target, We usually call this 'casual language model'\n",
        "        \n",
        "        input_batch.append(np.eye(n_class)[input])\n",
        "        target_batch.append(target)\n",
        "    return input_batch, target_batch"
      ],
      "execution_count": 41,
      "outputs": []
    },
    {
      "cell_type": "code",
      "metadata": {
        "id": "rgsEY4U45xlI"
      },
      "source": [
        "input_batch, target_batch = make_batch()\n",
        "input_batch = torch.FloatTensor(input_batch)\n",
        "target_batch = torch.LongTensor(target_batch)"
      ],
      "execution_count": 42,
      "outputs": []
    },
    {
      "cell_type": "code",
      "metadata": {
        "id": "dyZRIgd8ACPL",
        "outputId": "43efc943-33e1-4caf-be64-3bcf5faebf6f",
        "colab": {
          "base_uri": "https://localhost:8080/",
          "height": 199
        }
      },
      "source": [
        "for epoch in range(5000):\n",
        "    optimizer.zero_grad()\n",
        "    # hidden : [num_layers * num_directions, batch, hidden_size]\n",
        "    hidden = torch.zeros(1, batch_size, n_hidden)\n",
        "    # input_batch : [batch_size, n_step, n_class]\n",
        "    output = model(hidden, input_batch)\n",
        "    # output : [batch_size, n_class], target_batch : [batch_size] (LongTensor, not one-hot)\n",
        "    loss = criterion(output, target_batch)\n",
        "    if (epoch + 1) % 500 == 0:\n",
        "            print('Epoch:', '%04d' % (epoch + 1), 'cost =', '{:.6f}'.format(loss))\n",
        "    loss.backward()\n",
        "    optimizer.step()"
      ],
      "execution_count": 43,
      "outputs": [
        {
          "output_type": "stream",
          "text": [
            "Epoch: 0500 cost = 0.613180\n",
            "Epoch: 1000 cost = 0.153365\n",
            "Epoch: 1500 cost = 0.053604\n",
            "Epoch: 2000 cost = 0.025817\n",
            "Epoch: 2500 cost = 0.015055\n",
            "Epoch: 3000 cost = 0.009713\n",
            "Epoch: 3500 cost = 0.006650\n",
            "Epoch: 4000 cost = 0.004728\n",
            "Epoch: 4500 cost = 0.003449\n",
            "Epoch: 5000 cost = 0.002560\n"
          ],
          "name": "stdout"
        }
      ]
    },
    {
      "cell_type": "code",
      "metadata": {
        "id": "dbNU0MqWAH78",
        "outputId": "57ec3b9e-d5a9-442a-965c-fd80522b9e4d",
        "colab": {
          "base_uri": "https://localhost:8080/",
          "height": 35
        }
      },
      "source": [
        "input = [sen.split()[:2] for sen in sentences]\n",
        "hidden = torch.zeros(1, batch_size, n_hidden)\n",
        "predict = model(hidden, input_batch).data.max(1, keepdim=True)[1]\n",
        "print([sen.split()[:2] for sen in sentences], '->', [number_dict[n.item()] for n in predict.squeeze()])"
      ],
      "execution_count": 44,
      "outputs": [
        {
          "output_type": "stream",
          "text": [
            "[['i', 'like'], ['i', 'love'], ['i', 'eat'], ['i', 'heart']] -> ['nlp', 'gini', 'lot', 'chicken']\n"
          ],
          "name": "stdout"
        }
      ]
    }
  ]
}