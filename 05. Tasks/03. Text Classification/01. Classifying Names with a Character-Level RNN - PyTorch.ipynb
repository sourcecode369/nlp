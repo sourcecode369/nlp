{
  "nbformat": 4,
  "nbformat_minor": 0,
  "metadata": {
    "colab": {
      "name": "Classifying Names with a Character-Level RNN.ipynb",
      "provenance": []
    },
    "kernelspec": {
      "name": "python3",
      "display_name": "Python 3"
    },
    "accelerator": "GPU"
  },
  "cells": [
    {
      "cell_type": "code",
      "metadata": {
        "id": "aaLsT9Veo4Us",
        "outputId": "70c95eae-7bb9-4aa9-853f-86432d12b26e",
        "colab": {
          "base_uri": "https://localhost:8080/",
          "height": 35
        }
      },
      "source": [
        "from google.colab import drive\n",
        "drive.mount('/content/drive')"
      ],
      "execution_count": 1,
      "outputs": [
        {
          "output_type": "stream",
          "text": [
            "Mounted at /content/drive\n"
          ],
          "name": "stdout"
        }
      ]
    },
    {
      "cell_type": "code",
      "metadata": {
        "id": "c1JdZFtmSo2F",
        "outputId": "8a758c79-3825-45e8-914a-27cf3ac9d0de",
        "colab": {
          "base_uri": "https://localhost:8080/",
          "height": 35
        }
      },
      "source": [
        "import os\n",
        "os.chdir('/content/drive/My Drive')\n",
        "os.getcwd()"
      ],
      "execution_count": 2,
      "outputs": [
        {
          "output_type": "execute_result",
          "data": {
            "application/vnd.google.colaboratory.intrinsic+json": {
              "type": "string"
            },
            "text/plain": [
              "'/content/drive/My Drive'"
            ]
          },
          "metadata": {
            "tags": []
          },
          "execution_count": 2
        }
      ]
    },
    {
      "cell_type": "code",
      "metadata": {
        "id": "MBFXsAfYS_X1",
        "outputId": "d253299d-32b1-4efc-c31b-a60eb815ea42",
        "colab": {
          "base_uri": "https://localhost:8080/",
          "height": 35
        }
      },
      "source": [
        "if not os.path.exists('data'):\n",
        "    os.mkdir('data')\n",
        "\n",
        "os.chdir('data')\n",
        "os.getcwd()"
      ],
      "execution_count": 3,
      "outputs": [
        {
          "output_type": "execute_result",
          "data": {
            "application/vnd.google.colaboratory.intrinsic+json": {
              "type": "string"
            },
            "text/plain": [
              "'/content/drive/My Drive/data'"
            ]
          },
          "metadata": {
            "tags": []
          },
          "execution_count": 3
        }
      ]
    },
    {
      "cell_type": "code",
      "metadata": {
        "id": "doREoQV-TKmu",
        "outputId": "199bfa43-bc93-4f14-a5e5-57126bfb8e6a",
        "colab": {
          "base_uri": "https://localhost:8080/",
          "height": 217
        }
      },
      "source": [
        "!wget https://download.pytorch.org/tutorial/data.zip"
      ],
      "execution_count": 5,
      "outputs": [
        {
          "output_type": "stream",
          "text": [
            "--2020-10-06 09:37:43--  https://download.pytorch.org/tutorial/data.zip\n",
            "Resolving download.pytorch.org (download.pytorch.org)... 99.86.38.106, 99.86.38.96, 99.86.38.37, ...\n",
            "Connecting to download.pytorch.org (download.pytorch.org)|99.86.38.106|:443... connected.\n",
            "HTTP request sent, awaiting response... 200 OK\n",
            "Length: 2882130 (2.7M) [application/zip]\n",
            "Saving to: ‘data.zip.2’\n",
            "\n",
            "data.zip.2          100%[===================>]   2.75M  5.33MB/s    in 0.5s    \n",
            "\n",
            "2020-10-06 09:37:44 (5.33 MB/s) - ‘data.zip.2’ saved [2882130/2882130]\n",
            "\n"
          ],
          "name": "stdout"
        }
      ]
    },
    {
      "cell_type": "code",
      "metadata": {
        "id": "kNel9noZTNt7",
        "outputId": "bf1df226-65b6-4937-ea0a-2fed66087b84",
        "colab": {
          "base_uri": "https://localhost:8080/",
          "height": 54
        }
      },
      "source": [
        "!unzip data.zip"
      ],
      "execution_count": 6,
      "outputs": [
        {
          "output_type": "stream",
          "text": [
            "Archive:  data.zip\n",
            "replace data/eng-fra.txt? [y]es, [n]o, [A]ll, [N]one, [r]ename: "
          ],
          "name": "stdout"
        }
      ]
    },
    {
      "cell_type": "markdown",
      "metadata": {
        "id": "qTW1N25iTS4E"
      },
      "source": [
        "Classifying Names with a Character-Level RNN\n",
        "\n",
        "**Author**: Sean Robertson <https://github.com/spro/practical-pytorch>_\n",
        "\n",
        "We will be building and training a basic character-level RNN to classify words. A character-level RNN reads words as a series of characters - outputting a prediction and \"hidden state\" at each step, feeding its previous hidden state into each next step. We take the final prediction to be the output, i.e. which class the word belongs to.\n",
        "\n",
        "Specifically, we'll train on a few thousand surnames from 18 languages of origin, and predict which language a name is from based on the spelling:\n",
        "\n",
        "::\n",
        "\n",
        "    $ python predict.py Hinton\n",
        "    (-0.47) Scottish\n",
        "    (-1.52) English\n",
        "    (-3.57) Irish\n",
        "\n",
        "    $ python predict.py Schmidhuber\n",
        "    (-0.19) German\n",
        "    (-2.48) Czech\n",
        "    (-2.68) Dutch\n"
      ]
    },
    {
      "cell_type": "code",
      "metadata": {
        "id": "OOFz0jNCT7eq"
      },
      "source": [
        "from __future__ import unicode_literals, absolute_import, division, print_function\n",
        "from io import open\n",
        "import glob \n",
        "import os\n",
        "import unicodedata \n",
        "import string\n",
        "\n",
        "import torch\n",
        "import torch.nn as nn\n",
        "import torch.nn.functional as F\n",
        "from torch.autograd import Variable"
      ],
      "execution_count": 4,
      "outputs": []
    },
    {
      "cell_type": "code",
      "metadata": {
        "id": "UUzixHIrktgZ"
      },
      "source": [
        "def find_files(path): return glob.glob(path)\n",
        "\n",
        "all_letters = string.ascii_letters + \" .,;'\"\n",
        "n_letters = len(all_letters)\n",
        "\n",
        "def unicode_to_ascii(s):\n",
        "    return ''.join(\n",
        "        c for c in unicodedata.normalize('NFD', s) \n",
        "        if unicodedata.category(c)!='Mn'\n",
        "        and c in all_letters\n",
        "    )    \n",
        "\n",
        "category_lines = {}\n",
        "all_categories = []\n",
        "def read_lines(filename):\n",
        "    lines = open(filename, encoding='utf-8').read().strip().split('\\n')\n",
        "    return [unicode_to_ascii(line) for line in lines]\n",
        "\n",
        "for filename in find_files('data/names/*.txt'):\n",
        "    category = os.path.splitext(os.path.basename(filename))[0]\n",
        "    all_categories.append(category)\n",
        "    lines = read_lines(filename)\n",
        "    category_lines[category] = lines"
      ],
      "execution_count": 5,
      "outputs": []
    },
    {
      "cell_type": "code",
      "metadata": {
        "id": "guGqu2L-mSnT",
        "outputId": "a692e185-5b3a-4e69-b95d-f9fbfe997620",
        "colab": {
          "base_uri": "https://localhost:8080/",
          "height": 345
        }
      },
      "source": [
        "for key in category_lines.keys():\n",
        "    print(key, \" : \", \", \".join(category_lines[key][:5]))"
      ],
      "execution_count": 6,
      "outputs": [
        {
          "output_type": "stream",
          "text": [
            "Greek  :  Adamidis, Adamou, Agelakos, Akrivopoulos, Alexandropoulos\n",
            "Spanish  :  Abana, Abano, Abarca, Abaroa, Abascal\n",
            "Korean  :  Ahn, Baik, Bang, Byon, Cha\n",
            "Dutch  :  Aalsburg, Aalst, Aarle, Achteren, Achthoven\n",
            "Russian  :  Ababko, Abaev, Abagyan, Abaidulin, Abaidullin\n",
            "Scottish  :  Smith, Brown, Wilson, Campbell, Stewart\n",
            "Arabic  :  Khoury, Nahas, Daher, Gerges, Nazari\n",
            "German  :  Abbing, Abel, Abeln, Abt, Achilles\n",
            "Polish  :  Adamczak, Adamczyk, Andrysiak, Auttenberg, Bartosz\n",
            "Italian  :  Abandonato, Abatangelo, Abatantuono, Abate, Abategiovanni\n",
            "English  :  Abbas, Abbey, Abbott, Abdi, Abel\n",
            "French  :  Abel, Abraham, Adam, Albert, Allard\n",
            "Portuguese  :  Abreu, Albuquerque, Almeida, Alves, Araujo\n",
            "Czech  :  Abl, Adsit, Ajdrna, Alt, Antonowitsch\n",
            "Irish  :  Adam, Ahearn, Aodh, Aodha, Aonghuis\n",
            "Japanese  :  Abe, Abukara, Adachi, Aida, Aihara\n",
            "Chinese  :  Ang, AuYong, Bai, Ban, Bao\n",
            "Vietnamese  :  Nguyen, Tron, Le, Pham, Huynh\n"
          ],
          "name": "stdout"
        }
      ]
    },
    {
      "cell_type": "code",
      "metadata": {
        "id": "K9OsSK5Rn0Hz"
      },
      "source": [
        "def letter_to_index(letter):\n",
        "    return all_letters.find(letter)\n",
        "\n",
        "def line_to_tensor(line):\n",
        "    tensor = torch.zeros(len(line), 1, n_letters)\n",
        "    for li, letter in enumerate(line):\n",
        "        tensor[li][0][letter_to_index(letter)] = 1\n",
        "    return tensor"
      ],
      "execution_count": 7,
      "outputs": []
    },
    {
      "cell_type": "code",
      "metadata": {
        "id": "jw6Y4YX0pgFv"
      },
      "source": [
        "class RNN(nn.Module):\n",
        "    \n",
        "    def __init__(self, input_size, hidden_size, output_size):\n",
        "        super(RNN, self).__init__()\n",
        "        self.input_size = input_size\n",
        "        self.hidden_size = hidden_size\n",
        "        self.output_size = output_size \n",
        "        self.i2h = nn.Linear(input_size + hidden_size, hidden_size)\n",
        "        self.i2o = nn.Linear(input_size + hidden_size, output_size)\n",
        "        self.softmax = nn.LogSoftmax(dim=1)\n",
        "    \n",
        "    def forward(self, input, hidden):\n",
        "        combined = torch.cat((input, hidden), 1)\n",
        "        hidden = self.i2h(combined)\n",
        "        output = self.i2o(combined)\n",
        "        output = self.softmax(output)\n",
        "        return output, hidden\n",
        "    \n",
        "    def init_hidden(self):\n",
        "        return Variable(torch.zeros(1, self.hidden_size))"
      ],
      "execution_count": 8,
      "outputs": []
    },
    {
      "cell_type": "code",
      "metadata": {
        "id": "_D5Arz4PrROT"
      },
      "source": [
        "n_hidden = 128\n",
        "n_categories = len(category_lines.keys())\n",
        "rnn = RNN(n_letters, n_hidden, n_categories)"
      ],
      "execution_count": 9,
      "outputs": []
    },
    {
      "cell_type": "code",
      "metadata": {
        "id": "3KmZVC23sD5D",
        "outputId": "5f1991a2-f998-49a9-cefe-7b6568a50135",
        "colab": {
          "base_uri": "https://localhost:8080/",
          "height": 72
        }
      },
      "source": [
        "input = Variable(line_to_tensor('Albert'))\n",
        "hidden = Variable(torch.zeros(1, n_hidden))\n",
        "\n",
        "output, next_hidden = rnn(input[0], hidden)\n",
        "print(output)"
      ],
      "execution_count": 10,
      "outputs": [
        {
          "output_type": "stream",
          "text": [
            "tensor([[-2.8907, -2.9740, -2.7962, -2.8719, -2.8576, -2.7710, -2.8688, -2.8926,\n",
            "         -2.8772, -2.9687, -2.8322, -2.9443, -2.9295, -2.8638, -2.9091, -2.9412,\n",
            "         -2.9062, -2.9592]], grad_fn=<LogSoftmaxBackward>)\n"
          ],
          "name": "stdout"
        }
      ]
    },
    {
      "cell_type": "code",
      "metadata": {
        "id": "xaW9-AqssoEe",
        "outputId": "1617e17e-33ef-4646-aa47-86ce4872f675",
        "colab": {
          "base_uri": "https://localhost:8080/",
          "height": 35
        }
      },
      "source": [
        "def category_from_output(output):\n",
        "    top_n, top_i = output.data.topk(1) # Tensor out of Variable with .data\n",
        "    category_i = top_i[0][0]\n",
        "    return all_categories[category_i], category_i\n",
        "\n",
        "print(category_from_output(output))"
      ],
      "execution_count": 11,
      "outputs": [
        {
          "output_type": "stream",
          "text": [
            "('Scottish', tensor(5))\n"
          ],
          "name": "stdout"
        }
      ]
    },
    {
      "cell_type": "code",
      "metadata": {
        "id": "oCmrnOsMssvW",
        "outputId": "2477fc69-4f13-4d80-9388-d576079576e9",
        "colab": {
          "base_uri": "https://localhost:8080/",
          "height": 199
        }
      },
      "source": [
        "import random\n",
        "\n",
        "def random_training_pair():                                                                                                               \n",
        "    category = random.choice(all_categories)\n",
        "    line = random.choice(category_lines[category])\n",
        "    category_tensor = Variable(torch.LongTensor([all_categories.index(category)]))\n",
        "    line_tensor = Variable(line_to_tensor(line))\n",
        "    return category, line, category_tensor, line_tensor\n",
        "\n",
        "for i in range(10):\n",
        "    category, line, category_tensor, line_tensor = random_training_pair()\n",
        "    print('category =', category, '/ line =', line)"
      ],
      "execution_count": 12,
      "outputs": [
        {
          "output_type": "stream",
          "text": [
            "category = Scottish / line = Gray\n",
            "category = Dutch / line = Kan\n",
            "category = German / line = Lorenzen\n",
            "category = English / line = Luker\n",
            "category = Russian / line = Deryabin\n",
            "category = Korean / line = Chung\n",
            "category = Polish / line = Gwozdek\n",
            "category = Arabic / line = Kattan\n",
            "category = Russian / line = Jamsuev\n",
            "category = Arabic / line = Shamon\n"
          ],
          "name": "stdout"
        }
      ]
    },
    {
      "cell_type": "code",
      "metadata": {
        "id": "YAWNQoIcs4d7"
      },
      "source": [
        "device = torch.device(\"cuda\") if torch.cuda.is_available() else torch.device(\"cpu\")\n",
        "rnn = RNN(n_letters, n_hidden, n_categories).to(device)\n",
        "criterion = nn.NLLLoss()\n",
        "learning_rate = 0.001\n",
        "optimizer = torch.optim.Adam(rnn.parameters(), lr=learning_rate)\n",
        "\n",
        "def train(category_tensor, line_tensor):\n",
        "    optimizer.zero_grad()\n",
        "\n",
        "    hidden = rnn.init_hidden()\n",
        "    hidden = hidden.to(device)\n",
        "\n",
        "    for i in range(line_tensor.size()[0]):\n",
        "        output, hidden = rnn(line_tensor[i], hidden)\n",
        "    \n",
        "    loss = criterion(output, category_tensor)\n",
        "    loss.backward()\n",
        "    optimizer.step()\n",
        "\n",
        "    return output, loss.item()"
      ],
      "execution_count": 13,
      "outputs": []
    },
    {
      "cell_type": "code",
      "metadata": {
        "id": "03fA9KsqTCBJ"
      },
      "source": [
        "import time\n",
        "import math\n",
        "\n",
        "n_epochs = 100000\n",
        "print_every = 5000\n",
        "plot_every = 500\n",
        "current_loss = 0\n",
        "all_losses = []"
      ],
      "execution_count": 14,
      "outputs": []
    },
    {
      "cell_type": "code",
      "metadata": {
        "id": "qio_eRWmTdbZ",
        "outputId": "96023320-f223-4e3a-b1b1-7c7b64b0a9fa",
        "colab": {
          "base_uri": "https://localhost:8080/",
          "height": 381
        }
      },
      "source": [
        "def time_since(since):\n",
        "    now = time.time()\n",
        "    s = now - since\n",
        "    m = math.floor(s / 60)\n",
        "    s -= m * 60\n",
        "    return \"%dm %ds\" % (m, s)\n",
        "\n",
        "start = time.time()\n",
        "\n",
        "for epoch in range(1, n_epochs+1):\n",
        "    category, line, category_tensor, line_tensor = random_training_pair()\n",
        "    category_tensor = category_tensor.to(device)\n",
        "    line_tensor = line_tensor.to(device)\n",
        "\n",
        "    output, loss = train(category_tensor, line_tensor)\n",
        "    current_loss += loss\n",
        "\n",
        "    if epoch % print_every == 0:\n",
        "        guess, guess_i = category_from_output(output)\n",
        "        correct = '✓' if guess == category else 'X (%s)' % category\n",
        "        print('%d %d%% (%s) %.4f %s / %s %s' % (epoch, epoch / n_epochs * 100, time_since(start), loss, line, guess, correct))\n",
        "    \n",
        "    if epoch % plot_every == 0:\n",
        "        all_losses.append(current_loss/plot_every)\n",
        "        current_loss = 0"
      ],
      "execution_count": 15,
      "outputs": [
        {
          "output_type": "stream",
          "text": [
            "5000 5% (0m 12s) 1.8114 Inouye / Japanese ✓\n",
            "10000 10% (0m 24s) 0.1691 Vassilopulos / Greek ✓\n",
            "15000 15% (0m 36s) 3.2804 Aalst / Arabic X (Dutch)\n",
            "20000 20% (0m 48s) 1.2780 Chevalier / French ✓\n",
            "25000 25% (1m 0s) 0.5365 Bishara / Arabic ✓\n",
            "30000 30% (1m 12s) 0.0047 Czajkowski / Polish ✓\n",
            "35000 35% (1m 24s) 3.3916 Mihelson / Scottish X (Russian)\n",
            "40000 40% (1m 37s) 0.4224 Sepelev / Russian ✓\n",
            "45000 45% (1m 49s) 0.3703 Basara / Arabic ✓\n",
            "50000 50% (2m 1s) 2.1040 Rivero / Italian X (Spanish)\n",
            "55000 55% (2m 13s) 0.1349 Troitsky / Russian ✓\n",
            "60000 60% (2m 25s) 1.2707 Nikolaou / Japanese X (Greek)\n",
            "65000 65% (2m 37s) 0.8070 Meisner / German ✓\n",
            "70000 70% (2m 49s) 1.3564 Wendell / German ✓\n",
            "75000 75% (3m 1s) 2.3902 Jobst / German X (Czech)\n",
            "80000 80% (3m 13s) 0.2300 Fan / Chinese ✓\n",
            "85000 85% (3m 25s) 2.1843 Haik / Korean X (Arabic)\n",
            "90000 90% (3m 37s) 0.2537 Kaminski / Polish ✓\n",
            "95000 95% (3m 49s) 1.2797 Davidson / French X (English)\n",
            "100000 100% (4m 2s) 0.3936 Ryskamp / Dutch ✓\n"
          ],
          "name": "stdout"
        }
      ]
    },
    {
      "cell_type": "code",
      "metadata": {
        "id": "bhtZ7QkHVTPn",
        "outputId": "f8e8c2b7-fcf7-4cc1-ee0b-4e74aa49e18d",
        "colab": {
          "base_uri": "https://localhost:8080/",
          "height": 283
        }
      },
      "source": [
        "import matplotlib.pyplot as plt\n",
        "import matplotlib.ticker as ticker\n",
        "\n",
        "plt.figure()\n",
        "plt.plot(all_losses)"
      ],
      "execution_count": 17,
      "outputs": [
        {
          "output_type": "execute_result",
          "data": {
            "text/plain": [
              "[<matplotlib.lines.Line2D at 0x7ff18891e908>]"
            ]
          },
          "metadata": {
            "tags": []
          },
          "execution_count": 17
        },
        {
          "output_type": "display_data",
          "data": {
            "image/png": "[encoded data removed]",
            "text/plain": [
              "<Figure size 432x288 with 1 Axes>"
            ]
          },
          "metadata": {
            "tags": [],
            "needs_background": "light"
          }
        }
      ]
    },
    {
      "cell_type": "code",
      "metadata": {
        "id": "ID47HLAWTCuu"
      },
      "source": [
        "confusion = torch.zeros(n_categories, n_categories)\n",
        "n_confusion = 10000\n",
        "\n",
        "def evaluate(line_tensor):\n",
        "    hidden = rnn.init_hidden()\n",
        "    hidden = hidden.to(device)\n",
        "    for i in range(line_tensor.size()[0]):\n",
        "        output, hidden = rnn(line_tensor[i], hidden)\n",
        "    \n",
        "    return output\n",
        "\n",
        "for i in range(n_confusion):\n",
        "    category, line, category_tensor, line_tensor = random_training_pair()\n",
        "    category_tensor = category_tensor.to(device)\n",
        "    line_tensor = line_tensor.to(device)\n",
        "    output = evaluate(line_tensor)\n",
        "    guess, guess_i = category_from_output(output)\n",
        "    category_i = all_categories.index(category)\n",
        "    confusion[category_i][guess_i] += 1"
      ],
      "execution_count": 20,
      "outputs": []
    },
    {
      "cell_type": "code",
      "metadata": {
        "id": "lq9O4po2Tu3N",
        "outputId": "6d03dfec-45cb-44cd-9ce0-c6e83bd8532f",
        "colab": {
          "base_uri": "https://localhost:8080/",
          "height": 320
        }
      },
      "source": [
        "for i in range(n_categories):\n",
        "    confusion[i] = confusion[i] / confusion[i].sum()\n",
        "\n",
        "fig = plt.figure()\n",
        "ax = plt.subplot(111)\n",
        "cax = ax.matshow(confusion.numpy())\n",
        "fig.colorbar(cax)\n",
        "\n",
        "ax.set_xticklabels([''] + all_categories, rotation=90)\n",
        "ax.set_yticklabels([''] + all_categories)\n",
        "\n",
        "ax.xaxis.set_major_locator(ticker.MultipleLocator(1))\n",
        "ax.yaxis.set_major_locator(ticker.MultipleLocator(1))\n",
        "\n",
        "plt.show()"
      ],
      "execution_count": 22,
      "outputs": [
        {
          "output_type": "display_data",
          "data": {
            "image/png": "[encoded data removed]",
            "text/plain": [
              "<Figure size 432x288 with 2 Axes>"
            ]
          },
          "metadata": {
            "tags": [],
            "needs_background": "light"
          }
        }
      ]
    },
    {
      "cell_type": "code",
      "metadata": {
        "id": "LqIBXkVjVI-f"
      },
      "source": [
        "def predict(input_line, n_predictions=5):\n",
        "    print('\\n> %s' % input_line)\n",
        "    with torch.no_grad():\n",
        "        output = evaluate(line_to_tensor(input_line).to(device))\n",
        "        topv, topi = output.topk(n_predictions, 1, True)\n",
        "        predictions = []\n",
        "\n",
        "        for i in range(n_predictions):\n",
        "            value = topv[0][i].item()\n",
        "            category_index = topi[0][i].item()\n",
        "            print('(%.2f) %s' % (value, all_categories[category_index]))\n",
        "            predictions.append([value, all_categories[category_index]])"
      ],
      "execution_count": 25,
      "outputs": []
    },
    {
      "cell_type": "code",
      "metadata": {
        "id": "IxSQ08mEWupM",
        "outputId": "9385e0ac-393c-43ec-aecd-fd4db76cfc7f",
        "colab": {
          "base_uri": "https://localhost:8080/",
          "height": 272
        }
      },
      "source": [
        "predict('john')\n",
        "predict('jane')"
      ],
      "execution_count": 42,
      "outputs": [
        {
          "output_type": "stream",
          "text": [
            "\n",
            "> john\n",
            "(-0.76) Dutch\n",
            "(-1.42) Irish\n",
            "(-2.71) English\n",
            "(-2.91) Scottish\n",
            "(-2.99) German\n",
            "\n",
            "> jane\n",
            "(-0.84) Dutch\n",
            "(-1.99) Scottish\n",
            "(-2.28) Japanese\n",
            "(-2.32) English\n",
            "(-2.52) French\n"
          ],
          "name": "stdout"
        }
      ]
    }
  ]
}