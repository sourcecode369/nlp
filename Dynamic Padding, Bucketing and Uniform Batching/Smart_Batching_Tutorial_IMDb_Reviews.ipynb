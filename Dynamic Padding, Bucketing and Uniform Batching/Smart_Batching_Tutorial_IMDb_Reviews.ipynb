{
  "nbformat": 4,
  "nbformat_minor": 0,
  "metadata": {
    "colab": {
      "name": "Smart Batching Tutorial - IMDb Reviews.ipynb",
      "provenance": [],
      "collapsed_sections": [],
      "toc_visible": true
    },
    "kernelspec": {
      "name": "python3",
      "display_name": "Python 3"
    },
    "accelerator": "GPU",
    "widgets": {
      "application/vnd.jupyter.widget-state+json": {
        "3b6b7f62e679490a8a880d0c97c4e62b": {
          "model_module": "@jupyter-widgets/controls",
          "model_name": "HBoxModel",
          "state": {
            "_view_name": "HBoxView",
            "_dom_classes": [],
            "_model_name": "HBoxModel",
            "_view_module": "@jupyter-widgets/controls",
            "_model_module_version": "1.5.0",
            "_view_count": null,
            "_view_module_version": "1.5.0",
            "box_style": "",
            "layout": "IPY_MODEL_f329cb16f747485a966fc7b68beda839",
            "_model_module": "@jupyter-widgets/controls",
            "children": [
              "IPY_MODEL_bfb3bd684c014feca42e36c9a07c1d5d",
              "IPY_MODEL_980a84c349be417e8f1fd5b948de4a70"
            ]
          }
        },
        "f329cb16f747485a966fc7b68beda839": {
          "model_module": "@jupyter-widgets/base",
          "model_name": "LayoutModel",
          "state": {
            "_view_name": "LayoutView",
            "grid_template_rows": null,
            "right": null,
            "justify_content": null,
            "_view_module": "@jupyter-widgets/base",
            "overflow": null,
            "_model_module_version": "1.2.0",
            "_view_count": null,
            "flex_flow": null,
            "width": null,
            "min_width": null,
            "border": null,
            "align_items": null,
            "bottom": null,
            "_model_module": "@jupyter-widgets/base",
            "top": null,
            "grid_column": null,
            "overflow_y": null,
            "overflow_x": null,
            "grid_auto_flow": null,
            "grid_area": null,
            "grid_template_columns": null,
            "flex": null,
            "_model_name": "LayoutModel",
            "justify_items": null,
            "grid_row": null,
            "max_height": null,
            "align_content": null,
            "visibility": null,
            "align_self": null,
            "height": null,
            "min_height": null,
            "padding": null,
            "grid_auto_rows": null,
            "grid_gap": null,
            "max_width": null,
            "order": null,
            "_view_module_version": "1.2.0",
            "grid_template_areas": null,
            "object_position": null,
            "object_fit": null,
            "grid_auto_columns": null,
            "margin": null,
            "display": null,
            "left": null
          }
        },
        "bfb3bd684c014feca42e36c9a07c1d5d": {
          "model_module": "@jupyter-widgets/controls",
          "model_name": "FloatProgressModel",
          "state": {
            "_view_name": "ProgressView",
            "style": "IPY_MODEL_dd5dcb1502744cdb9cc598b326280cae",
            "_dom_classes": [],
            "description": "Downloading: 100%",
            "_model_name": "FloatProgressModel",
            "bar_style": "success",
            "max": 433,
            "_view_module": "@jupyter-widgets/controls",
            "_model_module_version": "1.5.0",
            "value": 433,
            "_view_count": null,
            "_view_module_version": "1.5.0",
            "orientation": "horizontal",
            "min": 0,
            "description_tooltip": null,
            "_model_module": "@jupyter-widgets/controls",
            "layout": "IPY_MODEL_fae1dd91da184ab2856302976a009174"
          }
        },
        "980a84c349be417e8f1fd5b948de4a70": {
          "model_module": "@jupyter-widgets/controls",
          "model_name": "HTMLModel",
          "state": {
            "_view_name": "HTMLView",
            "style": "IPY_MODEL_11d0333989a948c4b3f77e1e36ca99eb",
            "_dom_classes": [],
            "description": "",
            "_model_name": "HTMLModel",
            "placeholder": "​",
            "_view_module": "@jupyter-widgets/controls",
            "_model_module_version": "1.5.0",
            "value": " 433/433 [00:09&lt;00:00, 44.6B/s]",
            "_view_count": null,
            "_view_module_version": "1.5.0",
            "description_tooltip": null,
            "_model_module": "@jupyter-widgets/controls",
            "layout": "IPY_MODEL_32b38c1961144d9b992a76c6e9e568b1"
          }
        },
        "dd5dcb1502744cdb9cc598b326280cae": {
          "model_module": "@jupyter-widgets/controls",
          "model_name": "ProgressStyleModel",
          "state": {
            "_view_name": "StyleView",
            "_model_name": "ProgressStyleModel",
            "description_width": "initial",
            "_view_module": "@jupyter-widgets/base",
            "_model_module_version": "1.5.0",
            "_view_count": null,
            "_view_module_version": "1.2.0",
            "bar_color": null,
            "_model_module": "@jupyter-widgets/controls"
          }
        },
        "fae1dd91da184ab2856302976a009174": {
          "model_module": "@jupyter-widgets/base",
          "model_name": "LayoutModel",
          "state": {
            "_view_name": "LayoutView",
            "grid_template_rows": null,
            "right": null,
            "justify_content": null,
            "_view_module": "@jupyter-widgets/base",
            "overflow": null,
            "_model_module_version": "1.2.0",
            "_view_count": null,
            "flex_flow": null,
            "width": null,
            "min_width": null,
            "border": null,
            "align_items": null,
            "bottom": null,
            "_model_module": "@jupyter-widgets/base",
            "top": null,
            "grid_column": null,
            "overflow_y": null,
            "overflow_x": null,
            "grid_auto_flow": null,
            "grid_area": null,
            "grid_template_columns": null,
            "flex": null,
            "_model_name": "LayoutModel",
            "justify_items": null,
            "grid_row": null,
            "max_height": null,
            "align_content": null,
            "visibility": null,
            "align_self": null,
            "height": null,
            "min_height": null,
            "padding": null,
            "grid_auto_rows": null,
            "grid_gap": null,
            "max_width": null,
            "order": null,
            "_view_module_version": "1.2.0",
            "grid_template_areas": null,
            "object_position": null,
            "object_fit": null,
            "grid_auto_columns": null,
            "margin": null,
            "display": null,
            "left": null
          }
        },
        "11d0333989a948c4b3f77e1e36ca99eb": {
          "model_module": "@jupyter-widgets/controls",
          "model_name": "DescriptionStyleModel",
          "state": {
            "_view_name": "StyleView",
            "_model_name": "DescriptionStyleModel",
            "description_width": "",
            "_view_module": "@jupyter-widgets/base",
            "_model_module_version": "1.5.0",
            "_view_count": null,
            "_view_module_version": "1.2.0",
            "_model_module": "@jupyter-widgets/controls"
          }
        },
        "32b38c1961144d9b992a76c6e9e568b1": {
          "model_module": "@jupyter-widgets/base",
          "model_name": "LayoutModel",
          "state": {
            "_view_name": "LayoutView",
            "grid_template_rows": null,
            "right": null,
            "justify_content": null,
            "_view_module": "@jupyter-widgets/base",
            "overflow": null,
            "_model_module_version": "1.2.0",
            "_view_count": null,
            "flex_flow": null,
            "width": null,
            "min_width": null,
            "border": null,
            "align_items": null,
            "bottom": null,
            "_model_module": "@jupyter-widgets/base",
            "top": null,
            "grid_column": null,
            "overflow_y": null,
            "overflow_x": null,
            "grid_auto_flow": null,
            "grid_area": null,
            "grid_template_columns": null,
            "flex": null,
            "_model_name": "LayoutModel",
            "justify_items": null,
            "grid_row": null,
            "max_height": null,
            "align_content": null,
            "visibility": null,
            "align_self": null,
            "height": null,
            "min_height": null,
            "padding": null,
            "grid_auto_rows": null,
            "grid_gap": null,
            "max_width": null,
            "order": null,
            "_view_module_version": "1.2.0",
            "grid_template_areas": null,
            "object_position": null,
            "object_fit": null,
            "grid_auto_columns": null,
            "margin": null,
            "display": null,
            "left": null
          }
        },
        "6b3bbe6b57eb4257a90eee83727fa22b": {
          "model_module": "@jupyter-widgets/controls",
          "model_name": "HBoxModel",
          "state": {
            "_view_name": "HBoxView",
            "_dom_classes": [],
            "_model_name": "HBoxModel",
            "_view_module": "@jupyter-widgets/controls",
            "_model_module_version": "1.5.0",
            "_view_count": null,
            "_view_module_version": "1.5.0",
            "box_style": "",
            "layout": "IPY_MODEL_89b457f63f9b4531b6fd4a16c8ae915a",
            "_model_module": "@jupyter-widgets/controls",
            "children": [
              "IPY_MODEL_530bcf39d1274706b9c832493f49f23e",
              "IPY_MODEL_a22c0c37ca21487391e1ae652ffdb3f9"
            ]
          }
        },
        "89b457f63f9b4531b6fd4a16c8ae915a": {
          "model_module": "@jupyter-widgets/base",
          "model_name": "LayoutModel",
          "state": {
            "_view_name": "LayoutView",
            "grid_template_rows": null,
            "right": null,
            "justify_content": null,
            "_view_module": "@jupyter-widgets/base",
            "overflow": null,
            "_model_module_version": "1.2.0",
            "_view_count": null,
            "flex_flow": null,
            "width": null,
            "min_width": null,
            "border": null,
            "align_items": null,
            "bottom": null,
            "_model_module": "@jupyter-widgets/base",
            "top": null,
            "grid_column": null,
            "overflow_y": null,
            "overflow_x": null,
            "grid_auto_flow": null,
            "grid_area": null,
            "grid_template_columns": null,
            "flex": null,
            "_model_name": "LayoutModel",
            "justify_items": null,
            "grid_row": null,
            "max_height": null,
            "align_content": null,
            "visibility": null,
            "align_self": null,
            "height": null,
            "min_height": null,
            "padding": null,
            "grid_auto_rows": null,
            "grid_gap": null,
            "max_width": null,
            "order": null,
            "_view_module_version": "1.2.0",
            "grid_template_areas": null,
            "object_position": null,
            "object_fit": null,
            "grid_auto_columns": null,
            "margin": null,
            "display": null,
            "left": null
          }
        },
        "530bcf39d1274706b9c832493f49f23e": {
          "model_module": "@jupyter-widgets/controls",
          "model_name": "FloatProgressModel",
          "state": {
            "_view_name": "ProgressView",
            "style": "IPY_MODEL_4cde03fd8c0247e4bdb793ddb45c9c81",
            "_dom_classes": [],
            "description": "Downloading: 100%",
            "_model_name": "FloatProgressModel",
            "bar_style": "success",
            "max": 440473133,
            "_view_module": "@jupyter-widgets/controls",
            "_model_module_version": "1.5.0",
            "value": 440473133,
            "_view_count": null,
            "_view_module_version": "1.5.0",
            "orientation": "horizontal",
            "min": 0,
            "description_tooltip": null,
            "_model_module": "@jupyter-widgets/controls",
            "layout": "IPY_MODEL_5b180febfd834fe4bb04551ccea85c06"
          }
        },
        "a22c0c37ca21487391e1ae652ffdb3f9": {
          "model_module": "@jupyter-widgets/controls",
          "model_name": "HTMLModel",
          "state": {
            "_view_name": "HTMLView",
            "style": "IPY_MODEL_0c5fb311b92c4d0eb8f68275382675db",
            "_dom_classes": [],
            "description": "",
            "_model_name": "HTMLModel",
            "placeholder": "​",
            "_view_module": "@jupyter-widgets/controls",
            "_model_module_version": "1.5.0",
            "value": " 440M/440M [00:09&lt;00:00, 46.2MB/s]",
            "_view_count": null,
            "_view_module_version": "1.5.0",
            "description_tooltip": null,
            "_model_module": "@jupyter-widgets/controls",
            "layout": "IPY_MODEL_ea97e590f72a489084bea1651b63645f"
          }
        },
        "4cde03fd8c0247e4bdb793ddb45c9c81": {
          "model_module": "@jupyter-widgets/controls",
          "model_name": "ProgressStyleModel",
          "state": {
            "_view_name": "StyleView",
            "_model_name": "ProgressStyleModel",
            "description_width": "initial",
            "_view_module": "@jupyter-widgets/base",
            "_model_module_version": "1.5.0",
            "_view_count": null,
            "_view_module_version": "1.2.0",
            "bar_color": null,
            "_model_module": "@jupyter-widgets/controls"
          }
        },
        "5b180febfd834fe4bb04551ccea85c06": {
          "model_module": "@jupyter-widgets/base",
          "model_name": "LayoutModel",
          "state": {
            "_view_name": "LayoutView",
            "grid_template_rows": null,
            "right": null,
            "justify_content": null,
            "_view_module": "@jupyter-widgets/base",
            "overflow": null,
            "_model_module_version": "1.2.0",
            "_view_count": null,
            "flex_flow": null,
            "width": null,
            "min_width": null,
            "border": null,
            "align_items": null,
            "bottom": null,
            "_model_module": "@jupyter-widgets/base",
            "top": null,
            "grid_column": null,
            "overflow_y": null,
            "overflow_x": null,
            "grid_auto_flow": null,
            "grid_area": null,
            "grid_template_columns": null,
            "flex": null,
            "_model_name": "LayoutModel",
            "justify_items": null,
            "grid_row": null,
            "max_height": null,
            "align_content": null,
            "visibility": null,
            "align_self": null,
            "height": null,
            "min_height": null,
            "padding": null,
            "grid_auto_rows": null,
            "grid_gap": null,
            "max_width": null,
            "order": null,
            "_view_module_version": "1.2.0",
            "grid_template_areas": null,
            "object_position": null,
            "object_fit": null,
            "grid_auto_columns": null,
            "margin": null,
            "display": null,
            "left": null
          }
        },
        "0c5fb311b92c4d0eb8f68275382675db": {
          "model_module": "@jupyter-widgets/controls",
          "model_name": "DescriptionStyleModel",
          "state": {
            "_view_name": "StyleView",
            "_model_name": "DescriptionStyleModel",
            "description_width": "",
            "_view_module": "@jupyter-widgets/base",
            "_model_module_version": "1.5.0",
            "_view_count": null,
            "_view_module_version": "1.2.0",
            "_model_module": "@jupyter-widgets/controls"
          }
        },
        "ea97e590f72a489084bea1651b63645f": {
          "model_module": "@jupyter-widgets/base",
          "model_name": "LayoutModel",
          "state": {
            "_view_name": "LayoutView",
            "grid_template_rows": null,
            "right": null,
            "justify_content": null,
            "_view_module": "@jupyter-widgets/base",
            "overflow": null,
            "_model_module_version": "1.2.0",
            "_view_count": null,
            "flex_flow": null,
            "width": null,
            "min_width": null,
            "border": null,
            "align_items": null,
            "bottom": null,
            "_model_module": "@jupyter-widgets/base",
            "top": null,
            "grid_column": null,
            "overflow_y": null,
            "overflow_x": null,
            "grid_auto_flow": null,
            "grid_area": null,
            "grid_template_columns": null,
            "flex": null,
            "_model_name": "LayoutModel",
            "justify_items": null,
            "grid_row": null,
            "max_height": null,
            "align_content": null,
            "visibility": null,
            "align_self": null,
            "height": null,
            "min_height": null,
            "padding": null,
            "grid_auto_rows": null,
            "grid_gap": null,
            "max_width": null,
            "order": null,
            "_view_module_version": "1.2.0",
            "grid_template_areas": null,
            "object_position": null,
            "object_fit": null,
            "grid_auto_columns": null,
            "margin": null,
            "display": null,
            "left": null
          }
        }
      }
    }
  },
  "cells": [
    {
      "cell_type": "markdown",
      "metadata": {
        "id": "Y-RBPRl43usv",
        "colab_type": "text"
      },
      "source": [
        "# Introduction"
      ]
    },
    {
      "cell_type": "markdown",
      "metadata": {
        "id": "Lr5OzVxdc85k",
        "colab_type": "text"
      },
      "source": [
        "In this Notebook, I'll demonstrate how to dramatically increase BERT's training time by creating batches of samples with different sequence lengths. \n",
        "\n",
        "I learned this technique from Michaël Benesty in his excellent blog post [here](https://towardsdatascience.com/divide-hugging-face-transformers-training-time-by-2-or-more-21bf7129db9q-21bf7129db9e), and used key pieces of his implementation ([here](https://gist.github.com/pommedeterresautee/1a334b665710bec9bb65965f662c94c8)) in this Notebook. \n",
        "\n",
        "> Michaël's code is designed to make use of the new `Trainer` class in the `transformers` library, and makes use of many helper classes from PyTorch and transformers. Unfortunately, the `transformers` library appears to have broken compatibility with his code, and it no longer runs. \n",
        "\n",
        "> I've taken a more manual approach in this Notebook, and I think it turned out well, especially for illustrating the technique.\n",
        "\n"
      ]
    },
    {
      "cell_type": "markdown",
      "metadata": {
        "id": "WgwZMTRN2OfF",
        "colab_type": "text"
      },
      "source": [
        "### Why We Pad\n"
      ]
    },
    {
      "cell_type": "markdown",
      "metadata": {
        "id": "FLmgAlcNDaR3",
        "colab_type": "text"
      },
      "source": [
        "\n",
        "GPUs are much more efficient when we can give them multiple training samples to work on in parallel, so we give them a \"batch\" of samples.\n",
        "\n",
        "In order for the GPU to operate on a batch, however, all of the inputs need to be of the same length. To address this, we pad all of our input sequences to be a single fixed length.\n",
        "\n",
        "We also provide the model with an \"attention mask\" for each sample, which identifies the `[PAD]` tokens and tells BERT to ignore them. \n",
        "\n",
        "*Side Note: In my experience, it seems that the [PAD] tokens may in fact have some* small *effect on the model. I'd have to look closely at how the attention mask is implemented to understand this better.* \n",
        "\n",
        "Below are some example sentences from a French dataset that have been tokenized with a French BERT model called CamemBERT. For the sake of illustration, let's say that our dataset only consists of these 12 sentences, and we're dividing them into 3 batches of 4 samples each.\n",
        "\n",
        "![Fixed Padding Length](https://drive.google.com/uc?export=view&id=1UaVW3gxTSAD0E9CrCX48kn6QF_L_slP9)\n",
        "\n",
        "In order to feed multiple samples into BERT at once, we are padding out all of the sentences to a length of 14 (to match the length of the longest sentence(s) in the dataset).\n",
        "\n",
        "This is the standard approach that I've used in all of my examples, and it's certainly the simplest to implement, code-wise.\n",
        "\n",
        "\n",
        "\n",
        "\n"
      ]
    },
    {
      "cell_type": "markdown",
      "metadata": {
        "id": "MMVDieLwz-f5",
        "colab_type": "text"
      },
      "source": [
        "### Dynamic Padding \n"
      ]
    },
    {
      "cell_type": "markdown",
      "metadata": {
        "id": "_6vwHS0A9qq4",
        "colab_type": "text"
      },
      "source": [
        "\n",
        "\n",
        "While the attention mask ensures that the `[PAD]` tokens don't influence BERT's *interpretation* of the text, the `[PAD]` tokens are still fully included in all of the mathematical operations that BERT is performing. This means they *do*  impact our *speed* for training and evaluation. \n",
        "\n",
        "And although all of the samples *within a batch* need to be of the same length, BERT doesn't care what length that is, and we can feed it batches of text with different maximum lengths!\n",
        "\n",
        "(If you think about it, there's nowhere in our code that we ever explicitly tell BERT what sequence length to expect from us. We pad our dataset to whatever length we want, and BERT processes it just fine).\n",
        "\n",
        "![Dynamic padding](https://drive.google.com/uc?export=view&id=1UfJJ2sj1w6prvwQPwyqbQCgJbJ9qIC9V)\n",
        "\n",
        "So, if we're willing to get more sophisticated with our code, we can customize our padding for each batch. This shouldn't have any impact on our accuracy, and Michaël confirmed this with his experiments.\n"
      ]
    },
    {
      "cell_type": "markdown",
      "metadata": {
        "id": "MELBfexO1QzA",
        "colab_type": "text"
      },
      "source": [
        "### Uniform Length Batching\n"
      ]
    },
    {
      "cell_type": "markdown",
      "metadata": {
        "id": "Yd1jPxX-9tCH",
        "colab_type": "text"
      },
      "source": [
        "\n",
        "We can go a step further, and sort our dataset by length before creating the batches, to be even more efficient.\n",
        "\n",
        "![Uniform Length Batching](https://drive.google.com/uc?export=view&id=1UjQaOAkN-zPh10fSoXmZ-68jMdFLq2y_)\n",
        "\n",
        "*Note: In the above illustration I've selected the batches in sequence, but we'll actually be selecting them more randomly, to allow for more randomness to the order of the training data.*\n",
        "\n",
        "Michael's experiments also support the intuition that this technique shouldn't adversely impact performance.\n",
        "\n",
        "For the rest of the notebook, I'll just refer to the combination of these two techniques as \"smart batching\"!"
      ]
    },
    {
      "cell_type": "markdown",
      "metadata": {
        "id": "iiMLQi1y7a8N",
        "colab_type": "text"
      },
      "source": [
        "Note: You can view the results of Michael's experiments on \"Weights and Biases\" [here](https://app.wandb.ai/pommedeterresautee/speed_training/reports/Divide-HuggingFace-Transformers-training-times-by-2-or-more-with-dynamic-padding-and-uniform-length-batching--VmlldzoxMDgzOTI)."
      ]
    },
    {
      "cell_type": "markdown",
      "metadata": {
        "id": "f38X8ryC7pvD",
        "colab_type": "text"
      },
      "source": [
        "# S1. Setup"
      ]
    },
    {
      "cell_type": "markdown",
      "metadata": {
        "id": "T9PJns-a7srE",
        "colab_type": "text"
      },
      "source": [
        "## 1.1. Install transformers"
      ]
    },
    {
      "cell_type": "code",
      "metadata": {
        "id": "-XeR8Sbz0B5x",
        "colab_type": "code",
        "colab": {
          "base_uri": "https://localhost:8080/",
          "height": 368
        },
        "outputId": "5737e040-5482-490a-8c65-bb18cfa52c06"
      },
      "source": [
        "!pip install transformers"
      ],
      "execution_count": null,
      "outputs": [
        {
          "output_type": "stream",
          "text": [
            "Requirement already satisfied: transformers in /usr/local/lib/python3.6/dist-packages (3.0.2)\n",
            "Requirement already satisfied: tokenizers==0.8.1.rc1 in /usr/local/lib/python3.6/dist-packages (from transformers) (0.8.1rc1)\n",
            "Requirement already satisfied: regex!=2019.12.17 in /usr/local/lib/python3.6/dist-packages (from transformers) (2019.12.20)\n",
            "Requirement already satisfied: sentencepiece!=0.1.92 in /usr/local/lib/python3.6/dist-packages (from transformers) (0.1.91)\n",
            "Requirement already satisfied: tqdm>=4.27 in /usr/local/lib/python3.6/dist-packages (from transformers) (4.41.1)\n",
            "Requirement already satisfied: filelock in /usr/local/lib/python3.6/dist-packages (from transformers) (3.0.12)\n",
            "Requirement already satisfied: packaging in /usr/local/lib/python3.6/dist-packages (from transformers) (20.4)\n",
            "Requirement already satisfied: sacremoses in /usr/local/lib/python3.6/dist-packages (from transformers) (0.0.43)\n",
            "Requirement already satisfied: dataclasses; python_version < \"3.7\" in /usr/local/lib/python3.6/dist-packages (from transformers) (0.7)\n",
            "Requirement already satisfied: numpy in /usr/local/lib/python3.6/dist-packages (from transformers) (1.18.5)\n",
            "Requirement already satisfied: requests in /usr/local/lib/python3.6/dist-packages (from transformers) (2.23.0)\n",
            "Requirement already satisfied: six in /usr/local/lib/python3.6/dist-packages (from packaging->transformers) (1.12.0)\n",
            "Requirement already satisfied: pyparsing>=2.0.2 in /usr/local/lib/python3.6/dist-packages (from packaging->transformers) (2.4.7)\n",
            "Requirement already satisfied: click in /usr/local/lib/python3.6/dist-packages (from sacremoses->transformers) (7.1.2)\n",
            "Requirement already satisfied: joblib in /usr/local/lib/python3.6/dist-packages (from sacremoses->transformers) (0.15.1)\n",
            "Requirement already satisfied: certifi>=2017.4.17 in /usr/local/lib/python3.6/dist-packages (from requests->transformers) (2020.6.20)\n",
            "Requirement already satisfied: idna<3,>=2.5 in /usr/local/lib/python3.6/dist-packages (from requests->transformers) (2.9)\n",
            "Requirement already satisfied: chardet<4,>=3.0.2 in /usr/local/lib/python3.6/dist-packages (from requests->transformers) (3.0.4)\n",
            "Requirement already satisfied: urllib3!=1.25.0,!=1.25.1,<1.26,>=1.21.1 in /usr/local/lib/python3.6/dist-packages (from requests->transformers) (1.24.3)\n"
          ],
          "name": "stdout"
        }
      ]
    },
    {
      "cell_type": "markdown",
      "metadata": {
        "id": "Dannu15yD_tu",
        "colab_type": "text"
      },
      "source": [
        "## 1.2. Helper Functions"
      ]
    },
    {
      "cell_type": "markdown",
      "metadata": {
        "id": "nszM7hA_IoKP",
        "colab_type": "text"
      },
      "source": [
        "In many of my (long-running) for-loops I'll print periodic progress updates. Typically I pick the update interval manually, but for this Notebook I've defined a helper function to make that choice for me :)"
      ]
    },
    {
      "cell_type": "code",
      "metadata": {
        "id": "iTrHp0_FgOSg",
        "colab_type": "code",
        "colab": {}
      },
      "source": [
        "def good_update_interval(total_iters, num_desired_updates):\n",
        "    '''\n",
        "    This function will try to pick an intelligent progress update interval \n",
        "    based on the magnitude of the total iterations.\n",
        "\n",
        "    Parameters:\n",
        "      `total_iters` - The number of iterations in the for-loop.\n",
        "      `num_desired_updates` - How many times we want to see an update over the \n",
        "                              course of the for-loop.\n",
        "    '''\n",
        "    # Divide the total iterations by the desired number of updates. Most likely\n",
        "    # this will be some ugly number.\n",
        "    exact_interval = total_iters / num_desired_updates\n",
        "\n",
        "    # The `round` function has the ability to round down a number to, e.g., the\n",
        "    # nearest thousandth: round(exact_interval, -3)\n",
        "    #\n",
        "    # To determine the magnitude to round to, find the magnitude of the total,\n",
        "    # and then go one magnitude below that.\n",
        "\n",
        "    # Get the order of magnitude of the total.\n",
        "    order_of_mag = len(str(total_iters)) - 1\n",
        "\n",
        "    # Our update interval should be rounded to an order of magnitude smaller. \n",
        "    round_mag = order_of_mag - 1\n",
        "\n",
        "    # Round down and cast to an int.\n",
        "    update_interval = int(round(exact_interval, -round_mag))\n",
        "\n",
        "    # Don't allow the interval to be zero!\n",
        "    if update_interval == 0:\n",
        "        update_interval = 1\n",
        "\n",
        "    return update_interval"
      ],
      "execution_count": null,
      "outputs": []
    },
    {
      "cell_type": "markdown",
      "metadata": {
        "id": "KNhRtWPXH9C3",
        "colab_type": "text"
      },
      "source": [
        "Helper function for formatting elapsed times as `hh:mm:ss`\n"
      ]
    },
    {
      "cell_type": "code",
      "metadata": {
        "id": "gpt6tR83keZD",
        "colab_type": "code",
        "colab": {}
      },
      "source": [
        "import time\n",
        "import datetime\n",
        "\n",
        "def format_time(elapsed):\n",
        "    '''\n",
        "    Takes a time in seconds and returns a string hh:mm:ss\n",
        "    '''\n",
        "    # Round to the nearest second.\n",
        "    elapsed_rounded = int(round((elapsed)))\n",
        "    \n",
        "    # Format as hh:mm:ss\n",
        "    return str(datetime.timedelta(seconds=elapsed_rounded))\n"
      ],
      "execution_count": null,
      "outputs": []
    },
    {
      "cell_type": "markdown",
      "metadata": {
        "id": "h3dCqjK_9v4q",
        "colab_type": "text"
      },
      "source": [
        "# S2. Retrieve Dataset"
      ]
    },
    {
      "cell_type": "markdown",
      "metadata": {
        "id": "Cairkv4V7_IE",
        "colab_type": "text"
      },
      "source": [
        "## 2.1. Download Dataset Files"
      ]
    },
    {
      "cell_type": "markdown",
      "metadata": {
        "id": "UfYIRFDca_lx",
        "colab_type": "text"
      },
      "source": [
        "I'm sure there are many ways to retrieve this dataset--I'm using the TensorFlow Datasets library here as one easy way to do it.\n",
        "\n",
        "Documentation is here: https://www.tensorflow.org/datasets/catalog/imdb_reviews\n",
        "\n"
      ]
    },
    {
      "cell_type": "code",
      "metadata": {
        "id": "gx3aeVLJBuKC",
        "colab_type": "code",
        "colab": {
          "base_uri": "https://localhost:8080/",
          "height": 142
        },
        "outputId": "a0b35b83-ec4c-4690-c187-6e4d7d540d88"
      },
      "source": [
        "import tensorflow_datasets as tfds\n",
        "\n",
        "# Download the train and test portions of the dataset.\n",
        "train_data = tfds.load(name=\"imdb_reviews/plain_text\", split=\"train\")\n",
        "test_data = tfds.load(name=\"imdb_reviews/plain_text\", split=\"test\")\n"
      ],
      "execution_count": null,
      "outputs": [
        {
          "output_type": "stream",
          "text": [
            "INFO:absl:Overwrite dataset info from restored data version.\n",
            "INFO:absl:Reusing dataset imdb_reviews (/root/tensorflow_datasets/imdb_reviews/plain_text/1.0.0)\n",
            "INFO:absl:Constructing tf.data.Dataset for split train, from /root/tensorflow_datasets/imdb_reviews/plain_text/1.0.0\n",
            "INFO:absl:Overwrite dataset info from restored data version.\n",
            "INFO:absl:Reusing dataset imdb_reviews (/root/tensorflow_datasets/imdb_reviews/plain_text/1.0.0)\n",
            "INFO:absl:Constructing tf.data.Dataset for split test, from /root/tensorflow_datasets/imdb_reviews/plain_text/1.0.0\n"
          ],
          "name": "stderr"
        }
      ]
    },
    {
      "cell_type": "markdown",
      "metadata": {
        "id": "Tg9rRznq42f8",
        "colab_type": "text"
      },
      "source": [
        "Let's examine the contents and datatypes contained in the dataset. \n",
        "\n",
        "Each sample has a `label` and `text` field."
      ]
    },
    {
      "cell_type": "code",
      "metadata": {
        "id": "bmCWwPyaBuBW",
        "colab_type": "code",
        "colab": {
          "base_uri": "https://localhost:8080/",
          "height": 54
        },
        "outputId": "40d5c6ce-7f5b-412d-b9f6-ed3ede0b9a5a"
      },
      "source": [
        "train_data"
      ],
      "execution_count": null,
      "outputs": [
        {
          "output_type": "execute_result",
          "data": {
            "text/plain": [
              "<DatasetV1Adapter shapes: {label: (), text: ()}, types: {label: tf.int64, text: tf.string}>"
            ]
          },
          "metadata": {
            "tags": []
          },
          "execution_count": 15
        }
      ]
    },
    {
      "cell_type": "markdown",
      "metadata": {
        "id": "itjbAgmxEp-F",
        "colab_type": "text"
      },
      "source": [
        "Let's pull the data out of TensorFlow's icy grip, so we just have plain Python types :)"
      ]
    },
    {
      "cell_type": "code",
      "metadata": {
        "id": "hQ2_hJjzDYur",
        "colab_type": "code",
        "colab": {
          "base_uri": "https://localhost:8080/",
          "height": 69
        },
        "outputId": "d9a48cfe-5cd6-4549-8a8c-6e65e8d317ca"
      },
      "source": [
        "import numpy as np\n",
        "\n",
        "train_text = []\n",
        "train_labels = []\n",
        "\n",
        "# Loop over the training set...\n",
        "for ex in train_data.as_numpy_iterator():\n",
        "\n",
        "    # The text is a `bytes` object, decode to string.\n",
        "    train_text.append(ex['text'].decode())\n",
        "\n",
        "    # Cast the label from `np.int64` to `int`\n",
        "    train_labels.append(int(ex['label']))\n",
        "\n",
        "test_text = []\n",
        "test_labels = []\n",
        "\n",
        "# Loop over the test set...\n",
        "for ex in test_data.as_numpy_iterator():\n",
        "\n",
        "    # The text is a `bytes` object, decode to string.\n",
        "    test_text.append(ex['text'].decode())\n",
        "\n",
        "    # Cast the label from `np.int64` to `int`\n",
        "    test_labels.append(int(ex['label']))\n",
        "\n",
        "# Print some stats.\n",
        "print('{:,} Training Samples'.format(len(train_labels)))\n",
        "print('{:,} Test Samples'.format(len(test_labels)))\n",
        "print('Labels:', np.unique(train_labels))"
      ],
      "execution_count": null,
      "outputs": [
        {
          "output_type": "stream",
          "text": [
            "25,000 Training Samples\n",
            "25,000 Test Samples\n",
            "Labels: [0 1]\n"
          ],
          "name": "stdout"
        }
      ]
    },
    {
      "cell_type": "markdown",
      "metadata": {
        "id": "gObslUje8oNy",
        "colab_type": "text"
      },
      "source": [
        "# S3. Inspect Dataset"
      ]
    },
    {
      "cell_type": "markdown",
      "metadata": {
        "id": "M1q6B_N7crzA",
        "colab_type": "text"
      },
      "source": [
        "## 3.1. Inspect Training Samples"
      ]
    },
    {
      "cell_type": "markdown",
      "metadata": {
        "id": "4ICugTyee8h-",
        "colab_type": "text"
      },
      "source": [
        "Lets print out a handful of samples at random."
      ]
    },
    {
      "cell_type": "code",
      "metadata": {
        "id": "Njp6-5b5NwiE",
        "colab_type": "code",
        "colab": {
          "base_uri": "https://localhost:8080/",
          "height": 942
        },
        "outputId": "79c67394-b448-4730-f583-690be701e99f"
      },
      "source": [
        "import textwrap\n",
        "import random\n",
        "\n",
        "# Wrap text to 80 characters.\n",
        "wrapper = textwrap.TextWrapper(width=80) \n",
        "\n",
        "# Randomly choose some examples.\n",
        "for i in range(3):\n",
        "    \n",
        "    # Choose a random sample by index.\n",
        "    j = random.choice(range(len(train_text)))\n",
        "    \n",
        "    # Print out the label and the text. \n",
        "    print('==== Label: {:} ===='.format(train_labels[j]))\n",
        "    print(wrapper.fill(train_text[j]))\n",
        "    print('')\n"
      ],
      "execution_count": null,
      "outputs": [
        {
          "output_type": "stream",
          "text": [
            "==== Label: 0 ====\n",
            "Somewhere, on this site, someone wrote that to get the best version of the works\n",
            "of Jane Austen, one should simply read them. I agree with that. However, we love\n",
            "adaptations of great literature and the current writers' strike brings to mind\n",
            "that without good writers, it's hard for actors to bring their roles to life.\n",
            "The current version of Jane Austen's PERSUASION shows us what happens when you\n",
            "don't have a good foundation in a well-written adaptation. This version does not\n",
            "compare to the 1995 version with Amanda Root and Ciaran Hinds, which was well\n",
            "acted and kept the essence of the era and the constraints on the characters\n",
            "(with the exception of the bizarre parade & kissing in the street scene in\n",
            "Bath). The 2007 version shows a twitty Anne who seems angst-ridden. The other\n",
            "characters were not very developed which is a crime, considering how Austen\n",
            "could paint such wonderful characters with some carefully chosen\n",
            "understatements. The sequence of events that made sense in the novel were\n",
            "completely tossed about, and Mrs. Smith, Anne's bedridden and impoverished\n",
            "schoolmate is walking around in Bath - - twittering away, as many of the\n",
            "characters seemed to do. The strength of character and the intelligence of\n",
            "Captain Wentworth, which caused Anne to love him in the first place, didn't seem\n",
            "to be written into the Rupert Penry-Jones' Wentworth. Ciaran Hinds had more\n",
            "substance and was able to convey so much more with a look, than P-J was able to\n",
            "do with his poses. All in all, the 2007 version was a disappointment. It seemed\n",
            "to reduce the novel into a hand- wringing, costumed melodrama of debatable\n",
            "worth. If they wanted to bring our modern emotional extravagances into Austen's\n",
            "work, they should have done what they do with adaptations of Shakespeare: adapt\n",
            "it to the present. At least \"Bride & Prejudice\" was taken out of the historical\n",
            "& locational settings and was fun to watch, as was \"Clueless\". This wasn't\n",
            "PERSUASION, but they didn't know what else to call it.\n",
            "\n",
            "==== Label: 0 ====\n",
            "It's difficult to put into words the almost seething hatred I have of this film.\n",
            "But I'll try:<br /><br />Every other word was an expletive, the sex scenes were\n",
            "uncomfortable, drugs were rampant and stereotyping was beyond the norm, if not\n",
            "offensive to Italian-Americans.<br /><br />I'm not saying the acting was\n",
            "terrible, because Leguizamo, Sorvino, Brody, Espisito et. al, performed well.\n",
            "But...almost every character in the film I despised. Not since The Bonfire of\n",
            "the Vanities have I disliked every character on screen.\n",
            "\n",
            "==== Label: 0 ====\n",
            "Take one look at the cover of this movie, and you know right away that you are\n",
            "not about to watch a landmark film. This is cheese filmmaking in every respect,\n",
            "but it does have its moments. Despite the look of utter trash that the movie\n",
            "gives, the story is actually interesting at some points, although it is\n",
            "undeniably pulled along mainly by the cheerleading squads' shower scenes and sex\n",
            "scenes with numerous personality-free boyfriends. The acting is awful and the\n",
            "director did little more than point and shoot, which is why the extensive amount\n",
            "of nudity was needed to keep the audience's attention.<br /><br />In The Nutty\n",
            "Professor, a hopelessly geeky professor discovers a potion that can turn him\n",
            "into a cool and stylish womanizer, whereas in The Invisible Maniac, a mentally\n",
            "damaged professor discovers a potion that can make him invisible, allowing him\n",
            "to spy on (and kill, for some reason) his students. Boring fodder. Don't expect\n",
            "any kind of mental stimulation from this, and prepare yourself for shrill and\n",
            "enormously overdone maniacal laughter which gets real annoying real quick...\n",
            "\n"
          ],
          "name": "stdout"
        }
      ]
    },
    {
      "cell_type": "markdown",
      "metadata": {
        "id": "hDfRG57sfEjX",
        "colab_type": "text"
      },
      "source": [
        "Let's also check out the classes and their balance."
      ]
    },
    {
      "cell_type": "code",
      "metadata": {
        "colab_type": "code",
        "id": "fcBinIxWLjer",
        "colab": {
          "base_uri": "https://localhost:8080/",
          "height": 354
        },
        "outputId": "5ab90574-e931-4924-f37c-59a120f7ee74"
      },
      "source": [
        "import matplotlib.pyplot as plt\n",
        "import seaborn as sns\n",
        "import numpy as np\n",
        "\n",
        "sns.set(style='darkgrid')\n",
        "\n",
        "# Increase the plot size and font size.\n",
        "sns.set(font_scale=1.5)\n",
        "plt.rcParams[\"figure.figsize\"] = (10,5)\n",
        "\n",
        "# Plot the number of tokens of each length.\n",
        "ax = sns.countplot(train_labels)\n",
        "\n",
        "# Add labels\n",
        "plt.title('Class Distribution')\n",
        "plt.xlabel('Category')\n",
        "plt.ylabel('# of Training Samples')\n",
        "\n",
        "# Add thousands separators to the y-axis labels.\n",
        "import matplotlib as mpl\n",
        "ax.yaxis.set_major_formatter(mpl.ticker.StrMethodFormatter('{x:,.0f}'))\n",
        "\n",
        "plt.show()"
      ],
      "execution_count": null,
      "outputs": [
        {
          "output_type": "display_data",
          "data": {
            "image/png": "[encoded data removed]",
            "text/plain": [
              "<Figure size 720x360 with 1 Axes>"
            ]
          },
          "metadata": {
            "tags": []
          }
        }
      ]
    },
    {
      "cell_type": "markdown",
      "metadata": {
        "id": "ydHIQ_yc9ifE",
        "colab_type": "text"
      },
      "source": [
        "# S4. Smart Batching"
      ]
    },
    {
      "cell_type": "markdown",
      "metadata": {
        "id": "NHIEuC3TAOIh",
        "colab_type": "text"
      },
      "source": [
        "In this section, we will prepare our training set into these smart batches.\n",
        "\n",
        "We'll do it in Notebook style, with a mix of code and text cells so we can inspect and discuss things as we go. \n",
        "\n",
        "Note, though, that I've also defined a `make_smart_batches` function towards the end which performs all of these steps. We'll use that function to prepare the test set, and you could use that function in your own applications for both the training and test sets."
      ]
    },
    {
      "cell_type": "markdown",
      "metadata": {
        "id": "Vuahmt8IGHvG",
        "colab_type": "text"
      },
      "source": [
        "## 4.1. Load Tokenizer"
      ]
    },
    {
      "cell_type": "markdown",
      "metadata": {
        "id": "Axa8wTWmGJeG",
        "colab_type": "text"
      },
      "source": [
        "We'll use the uncased version of BERT-base. "
      ]
    },
    {
      "cell_type": "code",
      "metadata": {
        "id": "Z474sSC6oe7A",
        "colab_type": "code",
        "colab": {
          "base_uri": "https://localhost:8080/",
          "height": 34
        },
        "outputId": "325f7c4e-4742-49aa-fb0f-02c9860a62ed"
      },
      "source": [
        "from transformers import BertTokenizer\n",
        "\n",
        "# Load the BERT tokenizer.\n",
        "print('Loading BERT tokenizer...')\n",
        "tokenizer = BertTokenizer.from_pretrained('bert-base-uncased', do_lower_case=True)"
      ],
      "execution_count": null,
      "outputs": [
        {
          "output_type": "stream",
          "text": [
            "Loading BERT tokenizer...\n"
          ],
          "name": "stdout"
        }
      ]
    },
    {
      "cell_type": "markdown",
      "metadata": {
        "id": "x2Wvtz56l1TR",
        "colab_type": "text"
      },
      "source": [
        "## 4.2. Tokenize Without Padding"
      ]
    },
    {
      "cell_type": "markdown",
      "metadata": {
        "id": "qmLSEI1d-jCd",
        "colab_type": "text"
      },
      "source": [
        "**Peak GPU Memory Use**\n",
        "\n",
        "Even when applying smart batching, we may still want to truncate our inputs to a certain maximum length. BERT requires a lot of GPU memory, and it's quite possible for the GPU to not be able to process a batch with too many samples in it and / or too long of sequences. \n",
        "\n",
        "Smart batching means most of our batches will naturally have shorter sequence lengths and not require too much memory. However, all it takes is one batch  that's too long to fit on the GPU, and our training will fail! \n",
        "\n",
        "In other words, we still have to be concerned with our \"peak\" memory usage, and it still likely makes sense to truncate to something lower than 512, even with smart batching."
      ]
    },
    {
      "cell_type": "code",
      "metadata": {
        "id": "ngo68TDgJtoJ",
        "colab_type": "code",
        "colab": {}
      },
      "source": [
        "max_len = 400"
      ],
      "execution_count": null,
      "outputs": []
    },
    {
      "cell_type": "markdown",
      "metadata": {
        "id": "E4Lr7ziRl3Uh",
        "colab_type": "text"
      },
      "source": [
        "**Tokenize, but don't pad**\n",
        "\n",
        "We're going to start by tokenizing all of the samples and mapping the tokens to their IDs. \n",
        "\n",
        "We're also going to truncate the sequences to our chosen `max_len`, and we're going to add the special tokens.\n",
        "\n",
        "But we are **not padding** yet! We don't know what lengths to pad the sequences too until after we've grouped them into batches.\n",
        "\n"
      ]
    },
    {
      "cell_type": "code",
      "metadata": {
        "id": "unZgL-2VmQFb",
        "colab_type": "code",
        "colab": {
          "base_uri": "https://localhost:8080/",
          "height": 296
        },
        "outputId": "f7644d26-1187-41db-9d57-abdf6aecb6b5"
      },
      "source": [
        "full_input_ids = []\n",
        "labels = []\n",
        "\n",
        "# Tokenize all training examples\n",
        "print('Tokenizing {:,} training samples...'.format(len(train_text)))\n",
        "\n",
        "# Choose an interval on which to print progress updates.\n",
        "update_interval = good_update_interval(total_iters=len(train_text), num_desired_updates=10)\n",
        "\n",
        "# For each training example...\n",
        "for text in train_text:\n",
        "    \n",
        "    # Report progress.\n",
        "    if ((len(full_input_ids) % update_interval) == 0):\n",
        "        print('  Tokenized {:,} samples.'.format(len(full_input_ids)))\n",
        "\n",
        "    # Tokenize the sentence.\n",
        "    input_ids = tokenizer.encode(text=text,           # Movie review text\n",
        "                                 add_special_tokens=True, # Do add specials.\n",
        "                                 max_length=max_len,  # Do truncate to `max_len`\n",
        "                                 truncation=True,     # Do truncate!\n",
        "                                 padding=False)       # Don't pad!\n",
        "                                 \n",
        "    # Add the tokenized result to our list.\n",
        "    full_input_ids.append(input_ids)\n",
        "    \n",
        "print('DONE.')\n",
        "print('{:>10,} samples'.format(len(full_input_ids)))"
      ],
      "execution_count": null,
      "outputs": [
        {
          "output_type": "stream",
          "text": [
            "Tokenizing 25,000 training samples...\n",
            "  Tokenized 0 samples.\n",
            "  Tokenized 2,000 samples.\n",
            "  Tokenized 4,000 samples.\n",
            "  Tokenized 6,000 samples.\n",
            "  Tokenized 8,000 samples.\n",
            "  Tokenized 10,000 samples.\n",
            "  Tokenized 12,000 samples.\n",
            "  Tokenized 14,000 samples.\n",
            "  Tokenized 16,000 samples.\n",
            "  Tokenized 18,000 samples.\n",
            "  Tokenized 20,000 samples.\n",
            "  Tokenized 22,000 samples.\n",
            "  Tokenized 24,000 samples.\n",
            "DONE.\n",
            "    25,000 samples\n"
          ],
          "name": "stdout"
        }
      ]
    },
    {
      "cell_type": "markdown",
      "metadata": {
        "id": "s-tcq0AUuUgn",
        "colab_type": "text"
      },
      "source": [
        "## 4.3. Sort by length"
      ]
    },
    {
      "cell_type": "markdown",
      "metadata": {
        "id": "eFDWjne8_6UK",
        "colab_type": "text"
      },
      "source": [
        "Before we sort the samples by length, let's look at the lengths of the samples in their original, unsorted order. \n",
        "\n",
        "The below plot simply confirms that the sample lengths do vary significantly, and that they are unsorted."
      ]
    },
    {
      "cell_type": "code",
      "metadata": {
        "id": "1BqIG9dYuCuf",
        "colab_type": "code",
        "colab": {}
      },
      "source": [
        "# Get all of the lengths.\n",
        "unsorted_lengths = [len(x) for x in full_input_ids]"
      ],
      "execution_count": null,
      "outputs": []
    },
    {
      "cell_type": "code",
      "metadata": {
        "colab_type": "code",
        "id": "fXTVF5yNuGTH",
        "colab": {
          "base_uri": "https://localhost:8080/",
          "height": 361
        },
        "outputId": "e9b4e4ec-3972-471b-9c08-d6cc2baabf04"
      },
      "source": [
        "import matplotlib.pyplot as plt\n",
        "import seaborn as sns\n",
        "\n",
        "# Use plot styling from seaborn.\n",
        "sns.set(style='darkgrid')\n",
        "\n",
        "# Increase the plot size and font size.\n",
        "sns.set(font_scale=1.5)\n",
        "plt.rcParams[\"figure.figsize\"] = (12,6)\n",
        "\n",
        "plt.scatter(range(0, len(unsorted_lengths)), unsorted_lengths, marker=\"|\")\n",
        "\n",
        "plt.xlabel('Sample Number')\n",
        "plt.ylabel('Sequence Length')\n",
        "plt.title('Samples BEFORE Sorting')\n",
        "\n",
        "plt.show()"
      ],
      "execution_count": null,
      "outputs": [
        {
          "output_type": "display_data",
          "data": {
            "image/png": "[encoded data removed]",
            "text/plain": [
              "<Figure size 864x432 with 1 Axes>"
            ]
          },
          "metadata": {
            "tags": []
          }
        }
      ]
    },
    {
      "cell_type": "markdown",
      "metadata": {
        "id": "YGsCajGWrs4v",
        "colab_type": "text"
      },
      "source": [
        "Now we'll sort the examples by length so that we can create batches with equal (or at least similar) lengths.\n",
        "\n",
        "**NOTE:** One departure I've made from Michael's code is in how I sort. Michael sorted the samples by *strength length*, whereas my code is sorting them\n",
        "by their *number of tokens*. The two approaches are very similar of course, but I did confirm that they result in slightly different ordering of the samples."
      ]
    },
    {
      "cell_type": "code",
      "metadata": {
        "id": "wBesjNYe_pVB",
        "colab_type": "code",
        "colab": {}
      },
      "source": [
        "# Sort the two lists together by the length of the input sequence.\n",
        "train_samples = sorted(zip(full_input_ids, train_labels), key=lambda x: len(x[0]))"
      ],
      "execution_count": null,
      "outputs": []
    },
    {
      "cell_type": "markdown",
      "metadata": {
        "id": "jemdbaV_EHSm",
        "colab_type": "text"
      },
      "source": [
        "`train_samples` is now a list of tuples of (input_ids, label):"
      ]
    },
    {
      "cell_type": "code",
      "metadata": {
        "id": "DwuwisoREQ0U",
        "colab_type": "code",
        "colab": {
          "base_uri": "https://localhost:8080/",
          "height": 52
        },
        "outputId": "66b23480-9844-483d-d6b1-91cd84858bfe"
      },
      "source": [
        "train_samples[0]"
      ],
      "execution_count": null,
      "outputs": [
        {
          "output_type": "execute_result",
          "data": {
            "text/plain": [
              "([101, 2023, 3185, 2003, 6659, 2021, 2009, 2038, 2070, 2204, 3896, 1012, 102],\n",
              " 0)"
            ]
          },
          "metadata": {
            "tags": []
          },
          "execution_count": 25
        }
      ]
    },
    {
      "cell_type": "code",
      "metadata": {
        "id": "Hiemov-psBaf",
        "colab_type": "code",
        "colab": {
          "base_uri": "https://localhost:8080/",
          "height": 52
        },
        "outputId": "5000e7d4-69f6-442c-e03f-db585fd63db0"
      },
      "source": [
        "print('Shortest sample:', len(train_samples[0][0]))\n",
        "print('Longest sample:', len(train_samples[-1][0]))"
      ],
      "execution_count": null,
      "outputs": [
        {
          "output_type": "stream",
          "text": [
            "Shortest sample: 13\n",
            "Longest sample: 400\n"
          ],
          "name": "stdout"
        }
      ]
    },
    {
      "cell_type": "markdown",
      "metadata": {
        "id": "8s6xzcSEBDud",
        "colab_type": "text"
      },
      "source": [
        "Let's generate the same plot again, now that the samples are sorted by length."
      ]
    },
    {
      "cell_type": "code",
      "metadata": {
        "id": "JxFVnp1YsRU3",
        "colab_type": "code",
        "colab": {}
      },
      "source": [
        "# Get the new list of lengths after sorting.\n",
        "sorted_lengths = [len(s[0]) for s in train_samples]"
      ],
      "execution_count": null,
      "outputs": []
    },
    {
      "cell_type": "code",
      "metadata": {
        "id": "sKWvR18VsbmK",
        "colab_type": "code",
        "colab": {
          "base_uri": "https://localhost:8080/",
          "height": 361
        },
        "outputId": "9827b8dc-d3d8-4200-97a8-3c3bb51a1c03"
      },
      "source": [
        "import matplotlib.pyplot as plt\n",
        "import seaborn as sns\n",
        "\n",
        "# Use plot styling from seaborn.\n",
        "sns.set(style='darkgrid')\n",
        "\n",
        "# Increase the plot size and font size.\n",
        "sns.set(font_scale=1.5)\n",
        "plt.rcParams[\"figure.figsize\"] = (12,6)\n",
        "\n",
        "plt.plot(range(0, len(sorted_lengths)), sorted_lengths)\n",
        "\n",
        "plt.xlabel('Sample Number')\n",
        "plt.ylabel('Sequence Length')\n",
        "plt.title('Samples after Sorting')\n",
        "\n",
        "plt.show()"
      ],
      "execution_count": null,
      "outputs": [
        {
          "output_type": "display_data",
          "data": {
            "image/png": "[encoded data removed]",
            "text/plain": [
              "<Figure size 864x432 with 1 Axes>"
            ]
          },
          "metadata": {
            "tags": []
          }
        }
      ]
    },
    {
      "cell_type": "markdown",
      "metadata": {
        "id": "pm0GOKKcuZEl",
        "colab_type": "text"
      },
      "source": [
        "## 4.4. Random Batch Selection"
      ]
    },
    {
      "cell_type": "markdown",
      "metadata": {
        "id": "rJ2SJre0w3mz",
        "colab_type": "text"
      },
      "source": [
        "Choose our batch size."
      ]
    },
    {
      "cell_type": "code",
      "metadata": {
        "id": "LPy0XKC8xAWa",
        "colab_type": "code",
        "colab": {}
      },
      "source": [
        "batch_size = 16"
      ],
      "execution_count": null,
      "outputs": []
    },
    {
      "cell_type": "markdown",
      "metadata": {
        "id": "mnsyChFGuduN",
        "colab_type": "text"
      },
      "source": [
        "Now we're ready to select our batches.\n",
        "\n",
        "The strategy used here comes from Michaël Benesty's code, in his `build_batches` function. \n",
        "\n",
        "Rather than dividing the batches up in order, we will still add a degree of\n",
        "**randomness** to our selection.\n",
        "\n",
        "Here's the process:\n",
        "1. Pick a random starting point in the (sorted!) list of samples.\n",
        "2. Grab a contiguous batch of samples starting from that point.\n",
        "3. Delete those samples from the list, and repeat until all of the samples have been grabbed.\n",
        "\n",
        "This will result in some **fragmentation** of the list, which means it won't be quite as efficient as if we just sliced up the batches in sorted order.\n",
        "\n",
        "The benefit is that our path through the training set can still have a degree of randomness. Also, given the distribution of lengths that we saw in the previous section (lots of samples with similar lengths), I bet the fragmentation problem is pretty minor!\n",
        "\n"
      ]
    },
    {
      "cell_type": "code",
      "metadata": {
        "id": "XlDrZ7RUupqz",
        "colab_type": "code",
        "colab": {
          "base_uri": "https://localhost:8080/",
          "height": 139
        },
        "outputId": "1e0cc659-7fbb-44f6-f5d5-bc5aed83698d"
      },
      "source": [
        "import random\n",
        "\n",
        "# List of batches that we'll construct.\n",
        "batch_ordered_sentences = []\n",
        "batch_ordered_labels = []\n",
        "\n",
        "print('Creating training batches of size {:}'.format(batch_size))\n",
        "\n",
        "# Loop over all of the input samples...    \n",
        "while len(train_samples) > 0:\n",
        "    \n",
        "    # Report progress.\n",
        "    if ((len(batch_ordered_sentences) % 500) == 0):\n",
        "        print('  Selected {:,} batches.'.format(len(batch_ordered_sentences)))\n",
        "\n",
        "    # `to_take` is our actual batch size. It will be `batch_size` until \n",
        "    # we get to the last batch, which may be smaller. \n",
        "    to_take = min(batch_size, len(train_samples))\n",
        "\n",
        "    # Pick a random index in the list of remaining samples to start\n",
        "    # our batch at.\n",
        "    select = random.randint(0, len(train_samples) - to_take)\n",
        "\n",
        "    # Select a contiguous batch of samples starting at `select`.\n",
        "    batch = train_samples[select:(select + to_take)]\n",
        "\n",
        "    # Each sample is a tuple--split them apart to create a separate list of \n",
        "    # sequences and a list of labels for this batch.\n",
        "    batch_ordered_sentences.append([s[0] for s in batch])\n",
        "    batch_ordered_labels.append([s[1] for s in batch])\n",
        "\n",
        "    # Remove these samples from the list.\n",
        "    del train_samples[select:select + to_take]\n",
        "\n",
        "print('\\n  DONE - {:,} batches.'.format(len(batch_ordered_sentences)))"
      ],
      "execution_count": null,
      "outputs": [
        {
          "output_type": "stream",
          "text": [
            "Creating training batches of size 16\n",
            "  Selected 0 batches.\n",
            "  Selected 500 batches.\n",
            "  Selected 1,000 batches.\n",
            "  Selected 1,500 batches.\n",
            "\n",
            "  DONE - 1,563 batches.\n"
          ],
          "name": "stdout"
        }
      ]
    },
    {
      "cell_type": "markdown",
      "metadata": {
        "id": "u6AwCaAvxXdN",
        "colab_type": "text"
      },
      "source": [
        "## 4.5. Add Padding"
      ]
    },
    {
      "cell_type": "markdown",
      "metadata": {
        "id": "V9sufUYt7GQA",
        "colab_type": "text"
      },
      "source": [
        "We've created our batches, but many of them will contain sequences of different lengths. In order to leverage the GPUs parallel processing of batches, all of the sequences *within a batch* need to be the same length.\n",
        "\n",
        "This means we need to do some padding!\n",
        "\n",
        "We'll also create our **attention masks** here, and cast everything to **PyTorch tensors** in preparation for our fine-tuning step."
      ]
    },
    {
      "cell_type": "code",
      "metadata": {
        "id": "kCNYTKpixPMJ",
        "colab_type": "code",
        "colab": {}
      },
      "source": [
        "import torch\n",
        "\n",
        "py_inputs = []\n",
        "py_attn_masks = []\n",
        "py_labels = []\n",
        "\n",
        "# For each batch...\n",
        "for (batch_inputs, batch_labels) in zip(batch_ordered_sentences, batch_ordered_labels):\n",
        "\n",
        "    # New version of the batch, this time with padded sequences and now with\n",
        "    # attention masks defined.\n",
        "    batch_padded_inputs = []\n",
        "    batch_attn_masks = []\n",
        "    \n",
        "    # First, find the longest sample in the batch. \n",
        "    # Note that the sequences do currently include the special tokens!\n",
        "    max_size = max([len(sen) for sen in batch_inputs])\n",
        "\n",
        "    #print('Max size:', max_size)\n",
        "\n",
        "    # For each input in this batch...\n",
        "    for sen in batch_inputs:\n",
        "        \n",
        "        # How many pad tokens do we need to add?\n",
        "        num_pads = max_size - len(sen)\n",
        "\n",
        "        # Add `num_pads` padding tokens to the end of the sequence.\n",
        "        padded_input = sen + [tokenizer.pad_token_id]*num_pads\n",
        "\n",
        "        # Define the attention mask--it's just a `1` for every real token\n",
        "        # and a `0` for every padding token.\n",
        "        attn_mask = [1] * len(sen) + [0] * num_pads\n",
        "\n",
        "        # Add the padded results to the batch.\n",
        "        batch_padded_inputs.append(padded_input)\n",
        "        batch_attn_masks.append(attn_mask)\n",
        "\n",
        "    # Our batch has been padded, so we need to save this updated batch.\n",
        "    # We also need the inputs to be PyTorch tensors, so we'll do that here.\n",
        "    py_inputs.append(torch.tensor(batch_padded_inputs))\n",
        "    py_attn_masks.append(torch.tensor(batch_attn_masks))\n",
        "    py_labels.append(torch.tensor(batch_labels))\n"
      ],
      "execution_count": null,
      "outputs": []
    },
    {
      "cell_type": "markdown",
      "metadata": {
        "id": "TACAmCf-Lavx",
        "colab_type": "text"
      },
      "source": [
        "Now that our data is ready, we can calculate the total number of tokens in the training data after using smart batching."
      ]
    },
    {
      "cell_type": "code",
      "metadata": {
        "colab_type": "code",
        "id": "BPQgl1wYLa59",
        "colab": {
          "base_uri": "https://localhost:8080/",
          "height": 69
        },
        "outputId": "e9bef5b4-28eb-46b2-a622-11201de98337"
      },
      "source": [
        "# Get the new list of lengths after sorting.\n",
        "padded_lengths = []\n",
        "\n",
        "# For each batch...\n",
        "for batch in py_inputs:\n",
        "    \n",
        "    # For each sample...\n",
        "    for s in batch:\n",
        "    \n",
        "        # Record its length.\n",
        "        padded_lengths.append(len(s))\n",
        "\n",
        "# Sum up the lengths to the get the total number of tokens after smart batching.\n",
        "smart_token_count = np.sum(padded_lengths)\n",
        "\n",
        "# To get the total number of tokens in the dataset using fixed padding, it's\n",
        "# as simple as the number of samples times our `max_len` parameter (that we\n",
        "# would pad everything to).\n",
        "fixed_token_count = len(train_text) * max_len\n",
        "\n",
        "# Calculate the percentage reduction.\n",
        "prcnt_reduced = (fixed_token_count - smart_token_count) / float(fixed_token_count) \n",
        "\n",
        "print('Total tokens:')\n",
        "print('   Fixed Padding: {:,}'.format(fixed_token_count))\n",
        "print('  Smart Batching: {:,}  ({:.1%} less)'.format(smart_token_count, prcnt_reduced))\n"
      ],
      "execution_count": null,
      "outputs": [
        {
          "output_type": "stream",
          "text": [
            "Total tokens:\n",
            "   Fixed Padding: 10,000,000\n",
            "  Smart Batching: 6,381,424  (36.2% less)\n"
          ],
          "name": "stdout"
        }
      ]
    },
    {
      "cell_type": "markdown",
      "metadata": {
        "id": "nooeo-i4OtqB",
        "colab_type": "text"
      },
      "source": [
        "We'll see at the end that this reduction in token count corresponds well to the reduction in training time!"
      ]
    },
    {
      "cell_type": "markdown",
      "metadata": {
        "id": "DaIlkeK2eDJw",
        "colab_type": "text"
      },
      "source": [
        "## 4.6. Old Approach - Fixed Padding"
      ]
    },
    {
      "cell_type": "markdown",
      "metadata": {
        "id": "vEwaEqwf6zQW",
        "colab_type": "text"
      },
      "source": [
        "To see how BERT does on the benchmark *without* smart batching, you can run the following cell instead of sections 4.2. - 4.5."
      ]
    },
    {
      "cell_type": "code",
      "metadata": {
        "id": "wCHBwwFxeH-m",
        "colab_type": "code",
        "colab": {}
      },
      "source": [
        "use_fixed_padding = False\n",
        "\n",
        "if use_fixed_padding:\n",
        "\n",
        "    # Specify batch_size and truncation length.    \n",
        "    batch_size = 16\n",
        "    max_len = 400   \n",
        "\n",
        "    # Tokenize all training examples\n",
        "    print('Tokenizing {:,} training samples...'.format(len(train_text)))\n",
        "\n",
        "    # Tokenize all of the sentences and map the tokens to thier word IDs.\n",
        "    batches_input_ids = []\n",
        "    batches_attention_masks = []\n",
        "    batches_labels = []\n",
        "\n",
        "    update_interval = batch_size * 150 \n",
        "\n",
        "    # For every sentence...\n",
        "    for i in range(0, len(train_text), batch_size):\n",
        "\n",
        "        # Report progress.\n",
        "        if ((i % update_interval) == 0):\n",
        "            print('  Tokenized {:,} samples.'.format(i))\n",
        "\n",
        "        # `encode_plus` will:\n",
        "        #   (1) Tokenize the sentence.\n",
        "        #   (2) Prepend the `[CLS]` token to the start.\n",
        "        #   (3) Append the `[SEP]` token to the end.\n",
        "        #   (4) Map tokens to their IDs.\n",
        "        #   (5) Pad or truncate the sentence to `max_length`\n",
        "        #   (6) Create attention masks for [PAD] tokens.\n",
        "        encoded_dict = tokenizer.batch_encode_plus(\n",
        "                            train_text[i:i+batch_size], # Batch of sentences to encode.\n",
        "                            add_special_tokens = True,  # Add '[CLS]' and '[SEP]'\n",
        "                            max_length = 400,           # Pad & truncate all sentences.\n",
        "                            padding = 'max_length',     # Pad all to the `max_length` parameter.\n",
        "                            truncation = True,\n",
        "                            return_attention_mask = True,   # Construct attn. masks.\n",
        "                            return_tensors = 'pt',     # Return pytorch tensors.\n",
        "                    )\n",
        "        \n",
        "        # Add the encoded sentence to the list.    \n",
        "        batches_input_ids.append(encoded_dict['input_ids'])\n",
        "        \n",
        "        # And its attention mask (simply differentiates padding from non-padding).\n",
        "        batches_attention_masks.append(encoded_dict['attention_mask'])\n",
        "\n",
        "        # Add the labels for the batch\n",
        "        batches_labels.append(torch.tensor(train_labels[i:i+batch_size]))\n",
        "    \n",
        "    # Rename the final variable to match the rest of the code in this Notebook.\n",
        "    py_inputs = batches_input_ids\n",
        "    py_attn_masks = batches_attention_masks\n",
        "    py_labels = batches_labels"
      ],
      "execution_count": null,
      "outputs": []
    },
    {
      "cell_type": "markdown",
      "metadata": {
        "id": "IvuYLP7TDpXH",
        "colab_type": "text"
      },
      "source": [
        "# S5. Fine-Tune BERT"
      ]
    },
    {
      "cell_type": "markdown",
      "metadata": {
        "id": "OwdfO8VuxHE-",
        "colab_type": "text"
      },
      "source": [
        "## 5.1. Load Pre-Trained Model"
      ]
    },
    {
      "cell_type": "markdown",
      "metadata": {
        "id": "f79lyPNLPT9h",
        "colab_type": "text"
      },
      "source": [
        "We'll use BERT-base-uncased for this example. \n",
        "\n",
        "`transformers` defines these `Auto` classes which will automatically select the correct class for the specifc pre-trained model that you specified.\n",
        "\n"
      ]
    },
    {
      "cell_type": "code",
      "metadata": {
        "id": "8GZPd5vWKrpL",
        "colab_type": "code",
        "colab": {
          "base_uri": "https://localhost:8080/",
          "height": 101,
          "referenced_widgets": [
            "3b6b7f62e679490a8a880d0c97c4e62b",
            "f329cb16f747485a966fc7b68beda839",
            "bfb3bd684c014feca42e36c9a07c1d5d",
            "980a84c349be417e8f1fd5b948de4a70",
            "dd5dcb1502744cdb9cc598b326280cae",
            "fae1dd91da184ab2856302976a009174",
            "11d0333989a948c4b3f77e1e36ca99eb",
            "32b38c1961144d9b992a76c6e9e568b1"
          ]
        },
        "outputId": "752ba924-6aee-4fec-ee3e-99b8a70604f2"
      },
      "source": [
        "from transformers import AutoConfig\n",
        "\n",
        "# Load the Config object, with an output configured for classification.\n",
        "config = AutoConfig.from_pretrained(pretrained_model_name_or_path='bert-base-uncased',\n",
        "                                    num_labels=2)\n",
        "\n",
        "print('Config type:', str(type(config)), '\\n')\n"
      ],
      "execution_count": null,
      "outputs": [
        {
          "output_type": "display_data",
          "data": {
            "application/vnd.jupyter.widget-view+json": {
              "model_id": "3b6b7f62e679490a8a880d0c97c4e62b",
              "version_minor": 0,
              "version_major": 2
            },
            "text/plain": [
              "HBox(children=(FloatProgress(value=0.0, description='Downloading', max=433.0, style=ProgressStyle(description_…"
            ]
          },
          "metadata": {
            "tags": []
          }
        },
        {
          "output_type": "stream",
          "text": [
            "\n",
            "Config type: <class 'transformers.configuration_bert.BertConfig'> \n",
            "\n"
          ],
          "name": "stdout"
        }
      ]
    },
    {
      "cell_type": "code",
      "metadata": {
        "id": "CNGJIqqVKvZG",
        "colab_type": "code",
        "colab": {
          "base_uri": "https://localhost:8080/",
          "height": 208,
          "referenced_widgets": [
            "6b3bbe6b57eb4257a90eee83727fa22b",
            "89b457f63f9b4531b6fd4a16c8ae915a",
            "530bcf39d1274706b9c832493f49f23e",
            "a22c0c37ca21487391e1ae652ffdb3f9",
            "4cde03fd8c0247e4bdb793ddb45c9c81",
            "5b180febfd834fe4bb04551ccea85c06",
            "0c5fb311b92c4d0eb8f68275382675db",
            "ea97e590f72a489084bea1651b63645f"
          ]
        },
        "outputId": "0f2bcb91-00a5-4c87-ab54-748286146a6a"
      },
      "source": [
        "from transformers import AutoModelForSequenceClassification\n",
        "\n",
        "# Load the pre-trained model for classification, passing in the `config` from\n",
        "# above.\n",
        "model = AutoModelForSequenceClassification.from_pretrained(\n",
        "    pretrained_model_name_or_path='bert-base-uncased',\n",
        "    config=config)\n",
        "\n",
        "print('\\nModel type:', str(type(model)))\n"
      ],
      "execution_count": null,
      "outputs": [
        {
          "output_type": "display_data",
          "data": {
            "application/vnd.jupyter.widget-view+json": {
              "model_id": "6b3bbe6b57eb4257a90eee83727fa22b",
              "version_minor": 0,
              "version_major": 2
            },
            "text/plain": [
              "HBox(children=(FloatProgress(value=0.0, description='Downloading', max=440473133.0, style=ProgressStyle(descri…"
            ]
          },
          "metadata": {
            "tags": []
          }
        },
        {
          "output_type": "stream",
          "text": [
            "\n"
          ],
          "name": "stdout"
        },
        {
          "output_type": "stream",
          "text": [
            "WARNING:transformers.modeling_utils:Some weights of the model checkpoint at bert-base-uncased were not used when initializing BertForSequenceClassification: ['cls.predictions.bias', 'cls.predictions.transform.dense.weight', 'cls.predictions.transform.dense.bias', 'cls.predictions.decoder.weight', 'cls.seq_relationship.weight', 'cls.seq_relationship.bias', 'cls.predictions.transform.LayerNorm.weight', 'cls.predictions.transform.LayerNorm.bias']\n",
            "- This IS expected if you are initializing BertForSequenceClassification from the checkpoint of a model trained on another task or with another architecture (e.g. initializing a BertForSequenceClassification model from a BertForPretraining model).\n",
            "- This IS NOT expected if you are initializing BertForSequenceClassification from the checkpoint of a model that you expect to be exactly identical (initializing a BertForSequenceClassification model from a BertForSequenceClassification model).\n",
            "WARNING:transformers.modeling_utils:Some weights of BertForSequenceClassification were not initialized from the model checkpoint at bert-base-uncased and are newly initialized: ['classifier.weight', 'classifier.bias']\n",
            "You should probably TRAIN this model on a down-stream task to be able to use it for predictions and inference.\n"
          ],
          "name": "stderr"
        },
        {
          "output_type": "stream",
          "text": [
            "\n",
            "Model type: <class 'transformers.modeling_bert.BertForSequenceClassification'>\n"
          ],
          "name": "stdout"
        }
      ]
    },
    {
      "cell_type": "markdown",
      "metadata": {
        "id": "Sa7tgw2-Pttq",
        "colab_type": "text"
      },
      "source": [
        "Connect to the GPU and load our model onto it.\n",
        "\n",
        "It's worth taking note of which GPU you're given. The Tesla P100 is much faster, for example, than the Tesla K80."
      ]
    },
    {
      "cell_type": "code",
      "metadata": {
        "id": "Asqmh0uTKuTx",
        "colab_type": "code",
        "colab": {
          "base_uri": "https://localhost:8080/",
          "height": 87
        },
        "outputId": "9d268c6c-23eb-40f3-d511-3cdde5ad1dc1"
      },
      "source": [
        "import torch\n",
        "\n",
        "print('\\nLoading model to GPU...')\n",
        "\n",
        "device = torch.device('cuda')\n",
        "\n",
        "print('  GPU:', torch.cuda.get_device_name(0))\n",
        "\n",
        "desc = model.to(device)\n",
        "\n",
        "print('    DONE.')"
      ],
      "execution_count": null,
      "outputs": [
        {
          "output_type": "stream",
          "text": [
            "\n",
            "Loading model to GPU...\n",
            "  GPU: Tesla K80\n",
            "    DONE.\n"
          ],
          "name": "stdout"
        }
      ]
    },
    {
      "cell_type": "markdown",
      "metadata": {
        "id": "qRWT-D4U_Pvx",
        "colab_type": "text"
      },
      "source": [
        "## 5.2. Optimizer & Learning Rate Scheduler"
      ]
    },
    {
      "cell_type": "markdown",
      "metadata": {
        "id": "8o-VEBobKwHk",
        "colab_type": "text"
      },
      "source": [
        "Set up our optimizer and learning rate scheduler for training."
      ]
    },
    {
      "cell_type": "code",
      "metadata": {
        "id": "GLs72DuMODJO",
        "colab_type": "code",
        "colab": {}
      },
      "source": [
        "from transformers import AdamW\n",
        "\n",
        "# Note: AdamW is a class from the huggingface library (as opposed to pytorch) \n",
        "# I believe the 'W' stands for 'Weight Decay fix\"\n",
        "optimizer = AdamW(model.parameters(),\n",
        "                  lr = 5e-5, # This is the value Michael used.\n",
        "                  eps = 1e-8 # args.adam_epsilon  - default is 1e-8.\n",
        "                )\n"
      ],
      "execution_count": null,
      "outputs": []
    },
    {
      "cell_type": "code",
      "metadata": {
        "id": "-p0upAhhRiIx",
        "colab_type": "code",
        "colab": {}
      },
      "source": [
        "from transformers import get_linear_schedule_with_warmup\n",
        "\n",
        "# Number of training epochs. I chose to train for 1 simply because the training\n",
        "# time is long. More epochs may improve the model's accuracy.\n",
        "epochs = 1\n",
        "\n",
        "# Total number of training steps is [number of batches] x [number of epochs]. \n",
        "# Note that it's the number of *batches*, not *samples*!\n",
        "total_steps = len(py_inputs) * epochs\n",
        "\n",
        "# Create the learning rate scheduler.\n",
        "scheduler = get_linear_schedule_with_warmup(optimizer, \n",
        "                                            num_warmup_steps = 0, # Default value in run_glue.py\n",
        "                                            num_training_steps = total_steps)"
      ],
      "execution_count": null,
      "outputs": []
    },
    {
      "cell_type": "markdown",
      "metadata": {
        "id": "RqfmWwUR_Sox",
        "colab_type": "text"
      },
      "source": [
        "## 5.3. Training Loop"
      ]
    },
    {
      "cell_type": "markdown",
      "metadata": {
        "id": "_QXZhFb4LnV5",
        "colab_type": "text"
      },
      "source": [
        "In previous examples I've made use of the PyTorch Dataset and DataLoader classes, but because of the smart batching I'm not using them in this Notebook.\n",
        "\n",
        "*Note: If you have modified this Notebook to run for more than one epoch, you'll need the `make_smart_batches` function defined in section 6.1.*\n"
      ]
    },
    {
      "cell_type": "markdown",
      "metadata": {
        "id": "cfNIhN19te3N",
        "colab_type": "text"
      },
      "source": [
        "We're ready to kick off the training!"
      ]
    },
    {
      "cell_type": "code",
      "metadata": {
        "id": "6J-FYdx6nFE_",
        "colab_type": "code",
        "colab": {
          "base_uri": "https://localhost:8080/",
          "height": 296
        },
        "outputId": "6d5366ba-3649-49c2-ead1-0a590369828a"
      },
      "source": [
        "import random\n",
        "import numpy as np\n",
        "\n",
        "# This training code is based on the `run_glue.py` script here:\n",
        "# https://github.com/huggingface/transformers/blob/5bfcd0485ece086ebcbed2d008813037968a9e58/examples/run_glue.py#L128\n",
        "\n",
        "# Set the seed value all over the place to make this reproducible.\n",
        "seed_val = 321\n",
        "\n",
        "random.seed(seed_val)\n",
        "np.random.seed(seed_val)\n",
        "torch.manual_seed(seed_val)\n",
        "torch.cuda.manual_seed_all(seed_val)\n",
        "\n",
        "# We'll store a number of quantities such as training and validation loss, \n",
        "# validation accuracy, and timings.\n",
        "training_stats = []\n",
        "\n",
        "# Update every `update_interval` batches.\n",
        "update_interval = good_update_interval(total_iters=len(py_inputs), num_desired_updates=10)\n",
        "\n",
        "# Measure the total training time for the whole run.\n",
        "total_t0 = time.time()\n",
        "\n",
        "# For each epoch...\n",
        "for epoch_i in range(0, epochs):\n",
        "    \n",
        "    # ========================================\n",
        "    #               Training\n",
        "    # ========================================\n",
        "    \n",
        "    # Perform one full pass over the training set.\n",
        "\n",
        "    print(\"\")\n",
        "    print('======== Epoch {:} / {:} ========'.format(epoch_i + 1, epochs))\n",
        "    \n",
        "    # At the start of each epoch (except for the first) we need to re-randomize\n",
        "    # our training data.\n",
        "    if epoch_i > 0:\n",
        "        # Use our `make_smart_batches` function (from 6.1.) to re-shuffle the \n",
        "        # dataset into new batches.\n",
        "        (py_inputs, py_attn_masks, py_labels) = make_smart_batches(train_text, train_labels, batch_size)\n",
        "    \n",
        "    print('Training on {:,} batches...'.format(len(py_inputs)))\n",
        "\n",
        "    # Measure how long the training epoch takes.\n",
        "    t0 = time.time()\n",
        "\n",
        "    # Reset the total loss for this epoch.\n",
        "    total_train_loss = 0\n",
        "\n",
        "    # Put the model into training mode. Don't be mislead--the call to \n",
        "    # `train` just changes the *mode*, it doesn't *perform* the training.\n",
        "    # `dropout` and `batchnorm` layers behave differently during training\n",
        "    # vs. test (source: https://stackoverflow.com/questions/51433378/what-does-model-train-do-in-pytorch)\n",
        "    model.train()\n",
        "\n",
        "    # For each batch of training data...\n",
        "    for step in range(0, len(py_inputs)):\n",
        "\n",
        "        # Progress update every, e.g., 100 batches.\n",
        "        if step % update_interval == 0 and not step == 0:\n",
        "            # Calculate elapsed time in minutes.\n",
        "            elapsed = format_time(time.time() - t0)\n",
        "            \n",
        "            # Calculate the time remaining based on our progress.\n",
        "            steps_per_sec = (time.time() - t0) / step\n",
        "            remaining_sec = steps_per_sec * (len(py_inputs) - step)\n",
        "            remaining = format_time(remaining_sec)\n",
        "\n",
        "            # Report progress.\n",
        "            print('  Batch {:>7,}  of  {:>7,}.    Elapsed: {:}.  Remaining: {:}'.format(step, len(py_inputs), elapsed, remaining))\n",
        "\n",
        "        # Copy the current training batch to the GPU using the `to` method.\n",
        "        b_input_ids = py_inputs[step].to(device)\n",
        "        b_input_mask = py_attn_masks[step].to(device)\n",
        "        b_labels = py_labels[step].to(device)\n",
        "\n",
        "        # Always clear any previously calculated gradients before performing a\n",
        "        # backward pass.\n",
        "        model.zero_grad()        \n",
        "\n",
        "        # Perform a forward pass (evaluate the model on this training batch).\n",
        "        # The call returns the loss (because we provided labels) and the \n",
        "        # \"logits\"--the model outputs prior to activation.\n",
        "        loss, logits = model(b_input_ids, \n",
        "                             token_type_ids=None, \n",
        "                             attention_mask=b_input_mask, \n",
        "                             labels=b_labels)\n",
        "\n",
        "        # Accumulate the training loss over all of the batches so that we can\n",
        "        # calculate the average loss at the end. `loss` is a Tensor containing a\n",
        "        # single value; the `.item()` function just returns the Python value \n",
        "        # from the tensor.\n",
        "        total_train_loss += loss.item()\n",
        "\n",
        "        # Perform a backward pass to calculate the gradients.\n",
        "        loss.backward()\n",
        "\n",
        "        # Clip the norm of the gradients to 1.0.\n",
        "        # This is to help prevent the \"exploding gradients\" problem.\n",
        "        torch.nn.utils.clip_grad_norm_(model.parameters(), 1.0)\n",
        "\n",
        "        # Update parameters and take a step using the computed gradient.\n",
        "        # The optimizer dictates the \"update rule\"--how the parameters are\n",
        "        # modified based on their gradients, the learning rate, etc.\n",
        "        optimizer.step()\n",
        "\n",
        "        # Update the learning rate.\n",
        "        scheduler.step()\n",
        "\n",
        "    # Calculate the average loss over all of the batches.\n",
        "    avg_train_loss = total_train_loss / len(py_inputs)            \n",
        "    \n",
        "    # Measure how long this epoch took.\n",
        "    training_time = format_time(time.time() - t0)\n",
        "\n",
        "    print(\"\")\n",
        "    print(\"  Average training loss: {0:.2f}\".format(avg_train_loss))\n",
        "    print(\"  Training epcoh took: {:}\".format(training_time))\n",
        "        \n",
        "    # Record all statistics from this epoch.\n",
        "    training_stats.append(\n",
        "        {\n",
        "            'epoch': epoch_i + 1,\n",
        "            'Training Loss': avg_train_loss,\n",
        "            'Training Time': training_time,\n",
        "        }\n",
        "    )\n",
        "\n",
        "print(\"\")\n",
        "print(\"Training complete!\")\n",
        "\n",
        "print(\"Total training took {:} (h:mm:ss)\".format(format_time(time.time()-total_t0)))"
      ],
      "execution_count": null,
      "outputs": [
        {
          "output_type": "stream",
          "text": [
            "\n",
            "======== Epoch 1 / 1 ========\n",
            "Training on 1,563 batches...\n",
            "  Batch     200  of    1,563.    Elapsed: 0:04:33.  Remaining: 0:30:58\n",
            "  Batch     400  of    1,563.    Elapsed: 0:08:52.  Remaining: 0:25:47\n",
            "  Batch     600  of    1,563.    Elapsed: 0:13:15.  Remaining: 0:21:16\n",
            "  Batch     800  of    1,563.    Elapsed: 0:17:47.  Remaining: 0:16:58\n",
            "  Batch   1,000  of    1,563.    Elapsed: 0:22:22.  Remaining: 0:12:36\n",
            "  Batch   1,200  of    1,563.    Elapsed: 0:27:04.  Remaining: 0:08:11\n",
            "  Batch   1,400  of    1,563.    Elapsed: 0:31:19.  Remaining: 0:03:39\n",
            "\n",
            "  Average training loss: 0.25\n",
            "  Training epcoh took: 0:35:06\n",
            "\n",
            "Training complete!\n",
            "Total training took 0:35:06 (h:mm:ss)\n"
          ],
          "name": "stdout"
        }
      ]
    },
    {
      "cell_type": "markdown",
      "metadata": {
        "id": "_5eZFCVPPn7J",
        "colab_type": "text"
      },
      "source": [
        "# S6. Evaluate on Test Set"
      ]
    },
    {
      "cell_type": "markdown",
      "metadata": {
        "id": "gLJ5NCUFQujZ",
        "colab_type": "text"
      },
      "source": [
        "### 6.1. `make_smart_batches`"
      ]
    },
    {
      "cell_type": "markdown",
      "metadata": {
        "id": "JVTpC6V8E2_q",
        "colab_type": "text"
      },
      "source": [
        "This function combines all of the steps from the \"Smart Batching\" section into a single (re-usable) function. You can use this in your own Notebook for applying smart batching to both your training and test sets."
      ]
    },
    {
      "cell_type": "code",
      "metadata": {
        "id": "g5LVFY7MPqRf",
        "colab_type": "code",
        "colab": {}
      },
      "source": [
        "def make_smart_batches(text_samples, labels, batch_size):\n",
        "    '''\n",
        "    This function combines all of the required steps to prepare batches.\n",
        "    '''\n",
        "\n",
        "    print('Creating Smart Batches from {:,} examples with batch size {:,}...\\n'.format(len(text_samples), batch_size))\n",
        "\n",
        "    # =========================\n",
        "    #   Tokenize & Truncate\n",
        "    # =========================\n",
        "\n",
        "    full_input_ids = []\n",
        "\n",
        "    # Tokenize all training examples\n",
        "    print('Tokenizing {:,} samples...'.format(len(labels)))\n",
        "\n",
        "    # Choose an interval on which to print progress updates.\n",
        "    update_interval = good_update_interval(total_iters=len(labels), num_desired_updates=10)\n",
        "\n",
        "    # For each training example...\n",
        "    for text in text_samples:\n",
        "        \n",
        "        # Report progress.\n",
        "        if ((len(full_input_ids) % update_interval) == 0):\n",
        "            print('  Tokenized {:,} samples.'.format(len(full_input_ids)))\n",
        "\n",
        "        # Tokenize the sample.\n",
        "        input_ids = tokenizer.encode(text=text,              # Text to encode.\n",
        "                                    add_special_tokens=True, # Do add specials.\n",
        "                                    max_length=max_len,      # Do Truncate!\n",
        "                                    truncation=True,         # Do Truncate!\n",
        "                                    padding=False)           # DO NOT pad.\n",
        "                                    \n",
        "        # Add the tokenized result to our list.\n",
        "        full_input_ids.append(input_ids)\n",
        "        \n",
        "    print('DONE.')\n",
        "    print('{:>10,} samples\\n'.format(len(full_input_ids)))\n",
        "\n",
        "    # =========================\n",
        "    #      Select Batches\n",
        "    # =========================    \n",
        "\n",
        "    # Sort the two lists together by the length of the input sequence.\n",
        "    samples = sorted(zip(full_input_ids, labels), key=lambda x: len(x[0]))\n",
        "\n",
        "    print('{:>10,} samples after sorting\\n'.format(len(samples)))\n",
        "\n",
        "    import random\n",
        "\n",
        "    # List of batches that we'll construct.\n",
        "    batch_ordered_sentences = []\n",
        "    batch_ordered_labels = []\n",
        "\n",
        "    print('Creating batches of size {:}...'.format(batch_size))\n",
        "\n",
        "    # Choose an interval on which to print progress updates.\n",
        "    update_interval = good_update_interval(total_iters=len(samples), num_desired_updates=10)\n",
        "    \n",
        "    # Loop over all of the input samples...    \n",
        "    while len(samples) > 0:\n",
        "        \n",
        "        # Report progress.\n",
        "        if ((len(batch_ordered_sentences) % update_interval) == 0 \\\n",
        "            and not len(batch_ordered_sentences) == 0):\n",
        "            print('  Selected {:,} batches.'.format(len(batch_ordered_sentences)))\n",
        "\n",
        "        # `to_take` is our actual batch size. It will be `batch_size` until \n",
        "        # we get to the last batch, which may be smaller. \n",
        "        to_take = min(batch_size, len(samples))\n",
        "\n",
        "        # Pick a random index in the list of remaining samples to start\n",
        "        # our batch at.\n",
        "        select = random.randint(0, len(samples) - to_take)\n",
        "\n",
        "        # Select a contiguous batch of samples starting at `select`.\n",
        "        #print(\"Selecting batch from {:} to {:}\".format(select, select+to_take))\n",
        "        batch = samples[select:(select + to_take)]\n",
        "\n",
        "        #print(\"Batch length:\", len(batch))\n",
        "\n",
        "        # Each sample is a tuple--split them apart to create a separate list of \n",
        "        # sequences and a list of labels for this batch.\n",
        "        batch_ordered_sentences.append([s[0] for s in batch])\n",
        "        batch_ordered_labels.append([s[1] for s in batch])\n",
        "\n",
        "        # Remove these samples from the list.\n",
        "        del samples[select:select + to_take]\n",
        "\n",
        "    print('\\n  DONE - Selected {:,} batches.\\n'.format(len(batch_ordered_sentences)))\n",
        "\n",
        "    # =========================\n",
        "    #        Add Padding\n",
        "    # =========================    \n",
        "\n",
        "    print('Padding out sequences within each batch...')\n",
        "\n",
        "    py_inputs = []\n",
        "    py_attn_masks = []\n",
        "    py_labels = []\n",
        "\n",
        "    # For each batch...\n",
        "    for (batch_inputs, batch_labels) in zip(batch_ordered_sentences, batch_ordered_labels):\n",
        "\n",
        "        # New version of the batch, this time with padded sequences and now with\n",
        "        # attention masks defined.\n",
        "        batch_padded_inputs = []\n",
        "        batch_attn_masks = []\n",
        "        \n",
        "        # First, find the longest sample in the batch. \n",
        "        # Note that the sequences do currently include the special tokens!\n",
        "        max_size = max([len(sen) for sen in batch_inputs])\n",
        "\n",
        "        # For each input in this batch...\n",
        "        for sen in batch_inputs:\n",
        "            \n",
        "            # How many pad tokens do we need to add?\n",
        "            num_pads = max_size - len(sen)\n",
        "\n",
        "            # Add `num_pads` padding tokens to the end of the sequence.\n",
        "            padded_input = sen + [tokenizer.pad_token_id]*num_pads\n",
        "\n",
        "            # Define the attention mask--it's just a `1` for every real token\n",
        "            # and a `0` for every padding token.\n",
        "            attn_mask = [1] * len(sen) + [0] * num_pads\n",
        "\n",
        "            # Add the padded results to the batch.\n",
        "            batch_padded_inputs.append(padded_input)\n",
        "            batch_attn_masks.append(attn_mask)\n",
        "\n",
        "        # Our batch has been padded, so we need to save this updated batch.\n",
        "        # We also need the inputs to be PyTorch tensors, so we'll do that here.\n",
        "        # Todo - Michael's code specified \"dtype=torch.long\"\n",
        "        py_inputs.append(torch.tensor(batch_padded_inputs))\n",
        "        py_attn_masks.append(torch.tensor(batch_attn_masks))\n",
        "        py_labels.append(torch.tensor(batch_labels))\n",
        "    \n",
        "    print('  DONE.')\n",
        "\n",
        "    # Return the smart-batched dataset!\n",
        "    return (py_inputs, py_attn_masks, py_labels)\n"
      ],
      "execution_count": null,
      "outputs": []
    },
    {
      "cell_type": "markdown",
      "metadata": {
        "id": "XjeMtTILT5iU",
        "colab_type": "text"
      },
      "source": [
        "## 6.2. Load Test Dataset & Smart Batch"
      ]
    },
    {
      "cell_type": "markdown",
      "metadata": {
        "id": "sMacm82SS88H",
        "colab_type": "text"
      },
      "source": [
        "Load the test dataset. This file has more columns, and contains rows for different languages (we'll only select the French test samples)."
      ]
    },
    {
      "cell_type": "code",
      "metadata": {
        "id": "xGuZAHn_S-fG",
        "colab_type": "code",
        "colab": {
          "base_uri": "https://localhost:8080/",
          "height": 488
        },
        "outputId": "927aa35f-564a-4beb-88ed-c35d74a283cd"
      },
      "source": [
        "# Use our new function to completely prepare our dataset.\n",
        "(py_inputs, py_attn_masks, py_labels) = make_smart_batches(test_text, test_labels, batch_size)"
      ],
      "execution_count": null,
      "outputs": [
        {
          "output_type": "stream",
          "text": [
            "Creating Smart Batches from 25,000 examples with batch size 16...\n",
            "\n",
            "Tokenizing 25,000 samples...\n",
            "  Tokenized 0 samples.\n",
            "  Tokenized 2,000 samples.\n",
            "  Tokenized 4,000 samples.\n",
            "  Tokenized 6,000 samples.\n",
            "  Tokenized 8,000 samples.\n",
            "  Tokenized 10,000 samples.\n",
            "  Tokenized 12,000 samples.\n",
            "  Tokenized 14,000 samples.\n",
            "  Tokenized 16,000 samples.\n",
            "  Tokenized 18,000 samples.\n",
            "  Tokenized 20,000 samples.\n",
            "  Tokenized 22,000 samples.\n",
            "  Tokenized 24,000 samples.\n",
            "DONE.\n",
            "    25,000 samples\n",
            "\n",
            "    25,000 samples after sorting\n",
            "\n",
            "Creating batches of size 16...\n",
            "\n",
            "  DONE - Selected 1,563 batches.\n",
            "\n",
            "Padding out sequences within each batch...\n",
            "  DONE.\n"
          ],
          "name": "stdout"
        }
      ]
    },
    {
      "cell_type": "markdown",
      "metadata": {
        "id": "2RfSDldsUmKn",
        "colab_type": "text"
      },
      "source": [
        "## 6.3. Evaluate"
      ]
    },
    {
      "cell_type": "markdown",
      "metadata": {
        "id": "rhR99IISNMg9",
        "colab_type": "text"
      },
      "source": [
        "\n",
        "With the test set prepared, we can apply our fine-tuned model to generate predictions on the test set."
      ]
    },
    {
      "cell_type": "code",
      "metadata": {
        "id": "Hba10sXR7Xi6",
        "colab_type": "code",
        "colab": {
          "base_uri": "https://localhost:8080/",
          "height": 174
        },
        "outputId": "33a1947c-8703-402f-b2e2-6f873ab3d1ed"
      },
      "source": [
        "# Prediction on test set\n",
        "\n",
        "print('Predicting labels for {:,} test sentences...'.format(len(test_labels)))\n",
        "\n",
        "# Put model in evaluation mode\n",
        "model.eval()\n",
        "\n",
        "# Tracking variables \n",
        "predictions , true_labels = [], []\n",
        "\n",
        "# Choose an interval on which to print progress updates.\n",
        "update_interval = good_update_interval(total_iters=len(py_inputs), num_desired_updates=10)\n",
        "\n",
        "# Measure elapsed time.\n",
        "t0 = time.time()\n",
        "\n",
        "# Put model in evaluation mode\n",
        "model.eval()\n",
        "\n",
        "# For each batch of training data...\n",
        "for step in range(0, len(py_inputs)):\n",
        "\n",
        "    # Progress update every 100 batches.\n",
        "    if step % update_interval == 0 and not step == 0:\n",
        "        # Calculate elapsed time in minutes.\n",
        "        elapsed = format_time(time.time() - t0)\n",
        "        \n",
        "        # Calculate the time remaining based on our progress.\n",
        "        steps_per_sec = (time.time() - t0) / step\n",
        "        remaining_sec = steps_per_sec * (len(py_inputs) - step)\n",
        "        remaining = format_time(remaining_sec)\n",
        "\n",
        "        # Report progress.\n",
        "        print('  Batch {:>7,}  of  {:>7,}.    Elapsed: {:}.  Remaining: {:}'.format(step, len(py_inputs), elapsed, remaining))\n",
        "\n",
        "    # Copy the batch to the GPU.\n",
        "    b_input_ids = py_inputs[step].to(device)\n",
        "    b_input_mask = py_attn_masks[step].to(device)\n",
        "    b_labels = py_labels[step].to(device)\n",
        "  \n",
        "    # Telling the model not to compute or store gradients, saving memory and \n",
        "    # speeding up prediction\n",
        "    with torch.no_grad():\n",
        "        # Forward pass, calculate logit predictions\n",
        "        outputs = model(b_input_ids, token_type_ids=None, \n",
        "                        attention_mask=b_input_mask)\n",
        "\n",
        "    logits = outputs[0]\n",
        "\n",
        "    # Move logits and labels to CPU\n",
        "    logits = logits.detach().cpu().numpy()\n",
        "    label_ids = b_labels.to('cpu').numpy()\n",
        "  \n",
        "    # Store predictions and true labels\n",
        "    predictions.append(logits)\n",
        "    true_labels.append(label_ids)\n",
        "\n",
        "print('    DONE.')"
      ],
      "execution_count": null,
      "outputs": [
        {
          "output_type": "stream",
          "text": [
            "Predicting labels for 25,000 test sentences...\n",
            "  Batch     200  of    1,563.    Elapsed: 0:01:32.  Remaining: 0:10:27\n",
            "  Batch     400  of    1,563.    Elapsed: 0:03:03.  Remaining: 0:08:53\n",
            "  Batch     600  of    1,563.    Elapsed: 0:04:35.  Remaining: 0:07:21\n",
            "  Batch     800  of    1,563.    Elapsed: 0:06:05.  Remaining: 0:05:48\n",
            "  Batch   1,000  of    1,563.    Elapsed: 0:07:37.  Remaining: 0:04:17\n",
            "  Batch   1,200  of    1,563.    Elapsed: 0:09:08.  Remaining: 0:02:46\n",
            "  Batch   1,400  of    1,563.    Elapsed: 0:10:44.  Remaining: 0:01:15\n",
            "    DONE.\n"
          ],
          "name": "stdout"
        }
      ]
    },
    {
      "cell_type": "markdown",
      "metadata": {
        "id": "a16IZkJ18rs3",
        "colab_type": "text"
      },
      "source": [
        "Now we can calculate the test set accuracy!"
      ]
    },
    {
      "cell_type": "code",
      "metadata": {
        "id": "li-4pvYfZbru",
        "colab_type": "code",
        "colab": {
          "base_uri": "https://localhost:8080/",
          "height": 34
        },
        "outputId": "46637f2a-394a-4f50-b968-63c994f107e1"
      },
      "source": [
        "# Combine the results across the batches.\n",
        "predictions = np.concatenate(predictions, axis=0)\n",
        "true_labels = np.concatenate(true_labels, axis=0)\n",
        "\n",
        "# Choose the label with the highest score as our prediction.\n",
        "preds = np.argmax(predictions, axis=1).flatten()\n",
        "\n",
        "# Calculate simple flat accuracy -- number correct over total number.\n",
        "accuracy = (preds == true_labels).mean()\n",
        "\n",
        "print('Accuracy: {:.3f}'.format(accuracy))"
      ],
      "execution_count": null,
      "outputs": [
        {
          "output_type": "stream",
          "text": [
            "Accuracy: 0.935\n"
          ],
          "name": "stdout"
        }
      ]
    },
    {
      "cell_type": "markdown",
      "metadata": {
        "id": "9OSATjqholtR",
        "colab_type": "text"
      },
      "source": [
        "Here are my results from running a single training epoch on a Tesla K80, comparing fixed-padding to smart batching.\n",
        "\n",
        "| Padding Strategy |   Model   | Batch Size | Max Len | Test Accur. |    GPU    | Training Time per Epoch (mm:ss) |\n",
        "|:----------------:|:---------:|:----------:|:-------:|:-----------:|:---------:|:-------------------------------:|\n",
        "|  Smart Batching  | BERT-base |     16     |   400   |    0.935    | Tesla K80 |             0:35:06             |\n",
        "|   Fixed Padding  | BERT-base |     16     |   400   |     0.93    | Tesla K80 |             0:53:14             |\n",
        "\n",
        "The fixed padding approach took 51.7% longer to train the model than Smart Batching!\n",
        "\n"
      ]
    },
    {
      "cell_type": "markdown",
      "metadata": {
        "id": "TlUP8LNvqeHb",
        "colab_type": "text"
      },
      "source": [
        "# Appendix"
      ]
    },
    {
      "cell_type": "markdown",
      "metadata": {
        "id": "nBuaH9F_qfMn",
        "colab_type": "text"
      },
      "source": [
        "### Smart Batching with `batch_encode_plus` and `DataLoader`"
      ]
    },
    {
      "cell_type": "markdown",
      "metadata": {
        "id": "qn0ojnLzLFm2",
        "colab_type": "text"
      },
      "source": [
        "This section discusses how \"smart batching\" might be implemented in a more formal way with the PyTorch `DataLoader` class and using the features currently available in huggingface `transformers`.\n",
        "\n",
        "In `transformers`, the `batch_encode_plus` function does have support for \"Dynamic Padding\"--it can automatically pad all of the samples in a batch out to match the longest sequence length in the batch.\n",
        "\n",
        "Check out the explanation given in this Warning in the source code, in [tokenization_utils_base.py](https://github.com/huggingface/transformers/blob/master/src/transformers/tokenization_utils_base.py#L1458):\n",
        "\n",
        "> \"The `pad_to_max_length` argument is deprecated and will be removed in a future version, use `padding=True` or `padding='longest'` to pad to the longest sequence in the batch, or use `padding='max_length'` to pad to a max length. In this case, you can give a specific length with `max_length` (e.g. `max_length=45`) or leave max_length to None to pad to the maximal input size of the model (e.g. 512 for Bert).\"\n",
        "\n",
        "So I think the call would look like this:\n"
      ]
    },
    {
      "cell_type": "code",
      "metadata": {
        "id": "jtELRNJCMSVS",
        "colab_type": "code",
        "colab": {}
      },
      "source": [
        "# Encode a batch of sentences with dynamic padding.\n",
        "encoded_dict = tokenizer.batch_encode_plus(\n",
        "                    train_text[i:i+batch_size], # Batch of sentences to encode.\n",
        "                    add_special_tokens = True,  # Add '[CLS]' and '[SEP]'\n",
        "                    padding = 'longest',        # Pad to longest in batch.\n",
        "                    truncation = True,          # Truncate sentences to `max_length`.\n",
        "                    max_length = 400,           \n",
        "                    return_attention_mask = True, # Construct attn. masks.\n",
        "                    return_tensors = 'pt',        # Return pytorch tensors.\n",
        "            )\n"
      ],
      "execution_count": null,
      "outputs": []
    },
    {
      "cell_type": "markdown",
      "metadata": {
        "id": "-4eDVH7OMizB",
        "colab_type": "text"
      },
      "source": [
        "However, if you do this, you need wait to actually encode your text until the random training samples for the batch have been selected! i.e., you can't pre-tokenize all of your sentences the way we have been.\n",
        "\n",
        "I believe the \"correct\" approach would be to implement a custom DataLoader class which:\n",
        "1. Stores the original training sample strings, *sorted by string length*.\n",
        "2. Selects a contiguous batch of samples starting at a random point in the list. \n",
        "3. Calls `batch_encode_plus` to encode the samples with dynamic padding, then returns the training batch.\n",
        "\n"
      ]
    },
    {
      "cell_type": "markdown",
      "metadata": {
        "id": "5vJN_TRCqonA",
        "colab_type": "text"
      },
      "source": [
        "### Impact of `[PAD]` tokens on accuracy"
      ]
    },
    {
      "cell_type": "markdown",
      "metadata": {
        "id": "WnrD1CPVqt34",
        "colab_type": "text"
      },
      "source": [
        "The difference in accuracy (0.93 for fixed-padding and 0.935 for smart batching) is interesting--I believe Michael had the same observation. It makes me curious to look at the attention mask implementation more--perhaps the `[PAD]` tokens are still having some small influence on the results. \n",
        "\n",
        "Maybe the Attention scores are calculated for all tokens, including the `[PAD]` tokens, and then the scores are multiplied against the mask, to zero out the scores for the `[PAD]` tokens? Because the SoftMax makes all of the attention scores sum to 1.0, that would mean the presence of `[PAD]` tokens would cause the scores for the real words to be lower..."
      ]
    }
  ]
}