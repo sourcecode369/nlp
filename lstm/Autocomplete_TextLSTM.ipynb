{
  "nbformat": 4,
  "nbformat_minor": 0,
  "metadata": {
    "colab": {
      "name": "Autocomplete - TextLSTM.ipynb",
      "provenance": [],
      "authorship_tag": "ABX9TyPb408cxz9GlVnu+xv+6dqi",
      "include_colab_link": true
    },
    "kernelspec": {
      "name": "python3",
      "display_name": "Python 3"
    }
  },
  "cells": [
    {
      "cell_type": "markdown",
      "metadata": {
        "id": "view-in-github",
        "colab_type": "text"
      },
      "source": [
        "<a href=\"https://colab.research.google.com/github/sourcecode369/transformers-tutorials/blob/master/lstm/Autocomplete_TextLSTM.ipynb\" target=\"_parent\"><img src=\"https://colab.research.google.com/assets/colab-badge.svg\" alt=\"Open In Colab\"/></a>"
      ]
    },
    {
      "cell_type": "code",
      "metadata": {
        "id": "HYfxP6YgGV-m"
      },
      "source": [
        "import torch\n",
        "import numpy as np\n",
        "import torch.nn as nn\n",
        "import torch.optim as optim"
      ],
      "execution_count": null,
      "outputs": []
    },
    {
      "cell_type": "code",
      "metadata": {
        "id": "RvcFqqooheaC"
      },
      "source": [
        "n_step = 3 # number of cells(= number of Step)\n",
        "n_hidden = 128 # number of hidden units in one cell\n",
        "\n",
        "char_arr = [c for c in 'abcdefghijklmnopqrstuvwxyz']\n",
        "word_dict = {n:i for i, n in enumerate(char_arr)}\n",
        "number_dict = {i:w for i, w in enumerate(char_arr)}\n",
        "n_class = len(word_dict)\n",
        "\n",
        "seq_data = ['gini', 'code', 'ragi', 'ruhi', 'sinh', 'sing']"
      ],
      "execution_count": null,
      "outputs": []
    },
    {
      "cell_type": "code",
      "metadata": {
        "id": "o-QSBuOFiOdE"
      },
      "source": [
        "class TextLSTM(nn.Module):\n",
        "    def __init__(self):\n",
        "        super(TextLSTM, self).__init__()\n",
        "        self.lstm = nn.LSTM(input_size=n_class, hidden_size=n_hidden)\n",
        "        self.W = nn.Linear(n_hidden, n_class, bias=False)\n",
        "        self.b = nn.Parameter(torch.ones([n_class]))\n",
        "    \n",
        "    def forward(self, X):\n",
        "        input = X.transpose(0, 1)\n",
        "        hidden_state = torch.zeros(1, len(X), n_hidden)\n",
        "        cell_state = torch.zeros(1, len(X), n_hidden)\n",
        "\n",
        "        outputs, (_, _) = self.lstm(input, (cell_state, hidden_state))\n",
        "        outputs = outputs[-1]\n",
        "        model = self.W(outputs) + self.b\n",
        "        return model"
      ],
      "execution_count": null,
      "outputs": []
    },
    {
      "cell_type": "code",
      "metadata": {
        "id": "W4l4jAxGj2NM"
      },
      "source": [
        "model = TextLSTM()\n",
        "criterion = nn.CrossEntropyLoss()\n",
        "optimizer = optim.Adam(model.parameters(), lr=1e-3)"
      ],
      "execution_count": null,
      "outputs": []
    },
    {
      "cell_type": "code",
      "metadata": {
        "id": "oGF1ZNh-kCce"
      },
      "source": [
        "def make_batch():\n",
        "    input_batch, target_batch = [], []\n",
        "\n",
        "    for seq in seq_data:\n",
        "        input = [word_dict[n] for n in seq[:-1]] # 'm', 'a' , 'k' is input\n",
        "        target = word_dict[seq[-1]] # 'e' is target\n",
        "        input_batch.append(np.eye(n_class)[input])\n",
        "        target_batch.append(target)\n",
        "\n",
        "    return input_batch, target_batch"
      ],
      "execution_count": null,
      "outputs": []
    },
    {
      "cell_type": "code",
      "metadata": {
        "id": "-f_KQVXJkO9C"
      },
      "source": [
        "input_batch, target_batch = make_batch()\n",
        "input_batch = torch.FloatTensor(input_batch)\n",
        "target_batch = torch.LongTensor(target_batch)"
      ],
      "execution_count": null,
      "outputs": []
    },
    {
      "cell_type": "code",
      "metadata": {
        "id": "paNTHGpDkSbe",
        "outputId": "810356fc-3b7d-40e3-e70e-8140e5f0995e",
        "colab": {
          "base_uri": "https://localhost:8080/",
          "height": 108
        }
      },
      "source": [
        "for epoch in range(5000):\n",
        "    model.zero_grad()\n",
        "    output = model(input_batch)\n",
        "    loss = criterion(output, target_batch)\n",
        "    if (epoch+1)%1000==0:\n",
        "        print('Epoch:', '%04d' % (epoch + 1), 'cost =', '{:.6f}'.format(loss))\n",
        "    loss.backward()\n",
        "    optimizer.step()"
      ],
      "execution_count": null,
      "outputs": [
        {
          "output_type": "stream",
          "text": [
            "Epoch: 1000 cost = 0.231241\n",
            "Epoch: 2000 cost = 0.231101\n",
            "Epoch: 3000 cost = 0.231071\n",
            "Epoch: 4000 cost = 0.231060\n",
            "Epoch: 5000 cost = 0.231055\n"
          ],
          "name": "stdout"
        }
      ]
    },
    {
      "cell_type": "code",
      "metadata": {
        "id": "HegRlmbIk_eo",
        "outputId": "1a0200f4-84bd-45a9-af82-5551d0205cb0",
        "colab": {
          "base_uri": "https://localhost:8080/",
          "height": 35
        }
      },
      "source": [
        "inputs = [sen[:3] for sen in seq_data]\n",
        "\n",
        "predict = model(input_batch).data.max(1, keepdim=True)[1]\n",
        "print(inputs, '->', [number_dict[n.item()] for n in predict.squeeze()])"
      ],
      "execution_count": null,
      "outputs": [
        {
          "output_type": "stream",
          "text": [
            "['gin', 'cod', 'rag', 'ruh', 'sin', 'sin'] -> ['i', 'e', 'i', 'i', 'g', 'g']\n"
          ],
          "name": "stdout"
        }
      ]
    }
  ]
}